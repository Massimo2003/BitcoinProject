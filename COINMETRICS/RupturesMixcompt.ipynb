{
 "cells": [
  {
   "cell_type": "markdown",
   "metadata": {},
   "source": [
    "**RUPTURES**"
   ]
  },
  {
   "cell_type": "code",
   "execution_count": null,
   "metadata": {},
   "outputs": [],
   "source": [
    "signal = get_df('btc.csv')\n",
    "signal = signal.sample(200)['PriceUSD'].values\n",
    "signal"
   ]
  },
  {
   "cell_type": "code",
   "execution_count": null,
   "metadata": {},
   "outputs": [],
   "source": [
    "import matplotlib.pyplot as plt\n",
    "import ruptures as rpt\n",
    "\n",
    "algo = rpt.Pelt(model=\"rbf\").fit(signal)\n",
    "result = algo.predict(pen=10)\n",
    "\n",
    "# display\n",
    "rpt.display(signal, bkps)\n",
    "plt.show()"
   ]
  },
  {
   "cell_type": "code",
   "execution_count": null,
   "metadata": {},
   "outputs": [],
   "source": [
    "algo = rpt.Dynp(model=\"l2\").fit(signal)\n",
    "result = algo.predict(n_bkps=10)\n",
    "rpt.display(signal, result)\n",
    "result"
   ]
  },
  {
   "cell_type": "code",
   "execution_count": null,
   "metadata": {},
   "outputs": [],
   "source": [
    "import matplotlib.pyplot as plt\n",
    "import ruptures as rpt\n",
    "\n",
    "# generate signal\n",
    "n_samples, dim, sigma = 1000, 3, 4\n",
    "n_bkps = 4  # number of breakpoints\n",
    "signal, bkps = rpt.pw_constant(n_samples, dim, n_bkps, noise_std=sigma)\n",
    "\n",
    "# detection\n",
    "algo = rpt.Pelt(model=\"rbf\").fit(signal)\n",
    "result = algo.predict(pen=10)\n",
    "\n",
    "# display\n",
    "rpt.display(signal, bkps, result)\n",
    "plt.show()"
   ]
  },
  {
   "cell_type": "code",
   "execution_count": null,
   "metadata": {},
   "outputs": [],
   "source": [
    "bkps"
   ]
  }
 ],
 "metadata": {
  "language_info": {
   "name": "python"
  },
  "orig_nbformat": 4
 },
 "nbformat": 4,
 "nbformat_minor": 2
}

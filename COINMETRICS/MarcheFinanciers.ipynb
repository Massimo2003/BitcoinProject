{
  "cells": [
    {
      "cell_type": "markdown",
      "metadata": {
        "colab_type": "text",
        "id": "view-in-github"
      },
      "source": [
        "<a href=\"https://colab.research.google.com/github/Massimo2003/BitcoinProject/blob/main/MarcheFinanciers.ipynb\" target=\"_parent\"><img src=\"https://colab.research.google.com/assets/colab-badge.svg\" alt=\"Open In Colab\"/></a>"
      ]
    },
    {
      "cell_type": "markdown",
      "metadata": {
        "id": "idmId97Ua3lH"
      },
      "source": [
        "# IMPORTS\n"
      ]
    },
    {
      "cell_type": "code",
      "execution_count": 1,
      "metadata": {
        "id": "T7KO0JMUU9do"
      },
      "outputs": [],
      "source": [
        "import pandas as pd\n",
        "import numpy as np\n",
        "import matplotlib.pyplot as plt\n",
        "import seaborn as sns\n",
        "import matplotlib.dates as mdates"
      ]
    },
    {
      "cell_type": "markdown",
      "metadata": {
        "id": "hyTin6omD95V"
      },
      "source": [
        "# DICO COLONNES: [DICO](https://coinmetrics.io/tools/)\n"
      ]
    },
    {
      "cell_type": "markdown",
      "metadata": {
        "id": "ezegIvz_MPEQ"
      },
      "source": [
        "**AdrActCnt**: sum of all adresses that are unique in the blockchain\n",
        "\n",
        "**AdrBaUSDXCnt:** The sum count of unique addresses holding at least X dollar's worth of native units as of the end of that day\n",
        "\n",
        "**BlkSizeMeanByte**: The mean size (in bytes) of all blocks created that interval.\n",
        "\n",
        "**BlkCnt**: Number of blocks used at that time\n",
        "\n",
        "**BlkWghtTot**: The mean weight of all blocks created that interval\n",
        "\n",
        "**CapAct1yrUSD** : The sum USD value of all active native units in the last year. Native units that transacted more than once are only counted once.\n",
        "\n",
        "\n",
        "**CapMVRVFF**: The ratio of the free float market capitalization (CapMrktFFUSD) to the sum \"realized\" USD value of the current supply (CapRealUSD).\n",
        "\n",
        "**DiffLast**: The difficulty of the last block in the considered time period. Difficulty represents how hard it is to find a hash that meets the protocol-designated requirement (i.e., the difficulty of finding a new block) that day.\n",
        "\n",
        "**FeeByteMeanNtv**:The mean transaction fee per byte of all blocks that interval in native units.\n",
        "\n",
        "**FeeMeanUSD**: The USD value of the mean fee per transaction that interval.\n",
        "\n",
        "**FeeTotNtv**: The sum USD value of all fees paid to miners, transaction validators, stakers and/or block producers that interval. \n",
        "\n",
        "**FlowInExUSD**:The sum USD value sent to exchanges that interval, excluding exchange to exchange activity.\n",
        "\n",
        "**FlowOutExtUSD**: The sum USD value withdrawn from exchanges that day, excluding exchange to exchange activity\n",
        "\n",
        "**HashRate**: The mean rate at which miners are solving hashes that day. Hash rate is the speed at which computations are being completed across all miners in the network.\n",
        "\n",
        "**IssContPctDay :** The percentage of new native units (continuous) issued on that day divided by the current supply on that day. Also referred to as the daily inflation rate.\n",
        "\n",
        "**IssTotUSD**:The sum USD value of all new native units issued that day.\n",
        "\n",
        "**NDF**:The ratio of supply held by addresses with at least one ten-thousandth of the current supply of native units to the current supply.\n",
        "\n",
        "**ROI1yr** :The return on investment for the asset assuming a purchase 12 months prior.\n",
        "\n",
        "**ROI30d** :The return on investment for the asset assuming a purchase 30 days prior.\n",
        "**ReferenceRateUSD**: Reference Rates are designed to represent the price of a cryptoasset in an arms length transaction between a willing buyer and willing seller. It is designed to reflect the price where the majority of trades took place for a given cryptoasset using multiple markets as input data sources.\n",
        "\n",
        "**RevHashUSD:** The mean miner reward per estimated hash unit performed during the period, in native units. The unit of hashpower measurement depends on the protocol.\n",
        "\n",
        "**Rev USD** : The sum USD value of all miner revenue (fees plus newly issued native units) .\n",
        "\n",
        "SER: \n",
        "The ratio of supply held by addresses with less than one ten-millionth of the current supply of native units to the supply held by the top one percent of addresses.\n",
        "\n",
        "SplyAct10yr:The sum of unique native units that transacted at least once in the trailing 10 Years up to that interval. Native units that transacted more than once are only counted once.\n",
        "\n",
        "SplyAdrBalUSD1M: The sum of all native units being held in addresses whose balance was $1M or greater at the end of that day. Only native units are considered (e.g., an address with less than X ETH but with more than X in ERC-20 tokens would not be considered)."
      ]
    },
    {
      "cell_type": "markdown",
      "metadata": {
        "id": "uHKN4tqia8Vh"
      },
      "source": [
        "# DATAFRAMES\n"
      ]
    },
    {
      "cell_type": "code",
      "execution_count": 2,
      "metadata": {
        "colab": {
          "base_uri": "https://localhost:8080/"
        },
        "id": "wf1gGjn5VXet",
        "outputId": "e9f3e924-a3a3-448a-94dc-5ef83404a65f"
      },
      "outputs": [
        {
          "name": "stdout",
          "output_type": "stream",
          "text": [
            "Dimension of dataframe:\n",
            " (4846, 144)\n",
            "First 5 elements of dataframe:\n",
            "          time  AdrActCnt  AdrBal1in100KCnt  AdrBal1in100MCnt  AdrBal1in10BCnt  \\\n",
            "0  2009-01-03        0.0               0.0               0.0              0.0   \n",
            "1  2009-01-04        0.0               0.0               0.0              0.0   \n",
            "2  2009-01-05        0.0               0.0               0.0              0.0   \n",
            "3  2009-01-06        0.0               0.0               0.0              0.0   \n",
            "4  2009-01-07        0.0               0.0               0.0              0.0   \n",
            "\n",
            "   AdrBal1in10KCnt  AdrBal1in10MCnt  AdrBal1in1BCnt  AdrBal1in1KCnt  \\\n",
            "0              0.0              0.0             0.0             0.0   \n",
            "1              0.0              0.0             0.0             0.0   \n",
            "2              0.0              0.0             0.0             0.0   \n",
            "3              0.0              0.0             0.0             0.0   \n",
            "4              0.0              0.0             0.0             0.0   \n",
            "\n",
            "   AdrBal1in1MCnt  ...  TxTfrCnt  TxTfrValAdjNtv  TxTfrValAdjUSD  \\\n",
            "0             0.0  ...       0.0             0.0             NaN   \n",
            "1             0.0  ...       0.0             0.0             NaN   \n",
            "2             0.0  ...       0.0             0.0             NaN   \n",
            "3             0.0  ...       0.0             0.0             NaN   \n",
            "4             0.0  ...       0.0             0.0             NaN   \n",
            "\n",
            "   TxTfrValMeanNtv  TxTfrValMeanUSD  TxTfrValMedNtv  TxTfrValMedUSD  \\\n",
            "0              NaN              NaN             NaN             NaN   \n",
            "1              NaN              NaN             NaN             NaN   \n",
            "2              NaN              NaN             NaN             NaN   \n",
            "3              NaN              NaN             NaN             NaN   \n",
            "4              NaN              NaN             NaN             NaN   \n",
            "\n",
            "   VelCur1yr  VtyDayRet180d  VtyDayRet30d  \n",
            "0        NaN            NaN           NaN  \n",
            "1        NaN            NaN           NaN  \n",
            "2        NaN            NaN           NaN  \n",
            "3        NaN            NaN           NaN  \n",
            "4        NaN            NaN           NaN  \n",
            "\n",
            "[5 rows x 144 columns]\n",
            "Last 5 elements of dataframe:\n",
            "             time  AdrActCnt  AdrBal1in100KCnt  AdrBal1in100MCnt  \\\n",
            "4841  2022-04-06   919776.0            9343.0         2342471.0   \n",
            "4842  2022-04-07   927811.0            9330.0         2343057.0   \n",
            "4843  2022-04-08   929602.0            9344.0         2344361.0   \n",
            "4844  2022-04-09   786423.0            9335.0         2344217.0   \n",
            "4845  2022-04-10        NaN               NaN               NaN   \n",
            "\n",
            "      AdrBal1in10BCnt  AdrBal1in10KCnt  AdrBal1in10MCnt  AdrBal1in1BCnt  \\\n",
            "4841       16931870.0            968.0         476877.0       7257427.0   \n",
            "4842       16938207.0            971.0         476733.0       7259849.0   \n",
            "4843       16969004.0            968.0         477050.0       7269117.0   \n",
            "4844       16979116.0            968.0         476648.0       7270115.0   \n",
            "4845              NaN              NaN              NaN             NaN   \n",
            "\n",
            "      AdrBal1in1KCnt  AdrBal1in1MCnt  ...  TxTfrCnt  TxTfrValAdjNtv  \\\n",
            "4841            45.0         98510.0  ...  801562.0   514235.410414   \n",
            "4842            45.0         98508.0  ...  802881.0   397026.711511   \n",
            "4843            45.0         98554.0  ...  850054.0   511120.851791   \n",
            "4844            45.0         98551.0  ...  713404.0   168296.352006   \n",
            "4845             NaN             NaN  ...       NaN             NaN   \n",
            "\n",
            "      TxTfrValAdjUSD  TxTfrValMeanNtv  TxTfrValMeanUSD  TxTfrValMedNtv  \\\n",
            "4841    2.226893e+10         1.378101     59678.568249        0.002288   \n",
            "4842    1.729808e+10         1.441804     62818.040255        0.002290   \n",
            "4843    2.158058e+10         1.530409     64617.053963        0.002293   \n",
            "4844    7.183056e+09         0.615778     26282.026617        0.001981   \n",
            "4845             NaN              NaN              NaN             NaN   \n",
            "\n",
            "      TxTfrValMedUSD  VelCur1yr  VtyDayRet180d  VtyDayRet30d  \n",
            "4841       99.086460  15.583166       0.033135      0.029868  \n",
            "4842       99.777911  15.612066       0.033103      0.029801  \n",
            "4843       96.831460  15.647105       0.033177      0.026688  \n",
            "4844       84.550624  15.641264       0.032997      0.024055  \n",
            "4845             NaN        NaN            NaN           NaN  \n",
            "\n",
            "[5 rows x 144 columns]\n",
            "Type of elements in dataframe (info):\n",
            " <bound method DataFrame.info of             time  AdrActCnt  AdrBal1in100KCnt  AdrBal1in100MCnt  \\\n",
            "0     2009-01-03        0.0               0.0               0.0   \n",
            "1     2009-01-04        0.0               0.0               0.0   \n",
            "2     2009-01-05        0.0               0.0               0.0   \n",
            "3     2009-01-06        0.0               0.0               0.0   \n",
            "4     2009-01-07        0.0               0.0               0.0   \n",
            "...          ...        ...               ...               ...   \n",
            "4841  2022-04-06   919776.0            9343.0         2342471.0   \n",
            "4842  2022-04-07   927811.0            9330.0         2343057.0   \n",
            "4843  2022-04-08   929602.0            9344.0         2344361.0   \n",
            "4844  2022-04-09   786423.0            9335.0         2344217.0   \n",
            "4845  2022-04-10        NaN               NaN               NaN   \n",
            "\n",
            "      AdrBal1in10BCnt  AdrBal1in10KCnt  AdrBal1in10MCnt  AdrBal1in1BCnt  \\\n",
            "0                 0.0              0.0              0.0             0.0   \n",
            "1                 0.0              0.0              0.0             0.0   \n",
            "2                 0.0              0.0              0.0             0.0   \n",
            "3                 0.0              0.0              0.0             0.0   \n",
            "4                 0.0              0.0              0.0             0.0   \n",
            "...               ...              ...              ...             ...   \n",
            "4841       16931870.0            968.0         476877.0       7257427.0   \n",
            "4842       16938207.0            971.0         476733.0       7259849.0   \n",
            "4843       16969004.0            968.0         477050.0       7269117.0   \n",
            "4844       16979116.0            968.0         476648.0       7270115.0   \n",
            "4845              NaN              NaN              NaN             NaN   \n",
            "\n",
            "      AdrBal1in1KCnt  AdrBal1in1MCnt  ...  TxTfrCnt  TxTfrValAdjNtv  \\\n",
            "0                0.0             0.0  ...       0.0        0.000000   \n",
            "1                0.0             0.0  ...       0.0        0.000000   \n",
            "2                0.0             0.0  ...       0.0        0.000000   \n",
            "3                0.0             0.0  ...       0.0        0.000000   \n",
            "4                0.0             0.0  ...       0.0        0.000000   \n",
            "...              ...             ...  ...       ...             ...   \n",
            "4841            45.0         98510.0  ...  801562.0   514235.410414   \n",
            "4842            45.0         98508.0  ...  802881.0   397026.711511   \n",
            "4843            45.0         98554.0  ...  850054.0   511120.851791   \n",
            "4844            45.0         98551.0  ...  713404.0   168296.352006   \n",
            "4845             NaN             NaN  ...       NaN             NaN   \n",
            "\n",
            "      TxTfrValAdjUSD  TxTfrValMeanNtv  TxTfrValMeanUSD  TxTfrValMedNtv  \\\n",
            "0                NaN              NaN              NaN             NaN   \n",
            "1                NaN              NaN              NaN             NaN   \n",
            "2                NaN              NaN              NaN             NaN   \n",
            "3                NaN              NaN              NaN             NaN   \n",
            "4                NaN              NaN              NaN             NaN   \n",
            "...              ...              ...              ...             ...   \n",
            "4841    2.226893e+10         1.378101     59678.568249        0.002288   \n",
            "4842    1.729808e+10         1.441804     62818.040255        0.002290   \n",
            "4843    2.158058e+10         1.530409     64617.053963        0.002293   \n",
            "4844    7.183056e+09         0.615778     26282.026617        0.001981   \n",
            "4845             NaN              NaN              NaN             NaN   \n",
            "\n",
            "      TxTfrValMedUSD  VelCur1yr  VtyDayRet180d  VtyDayRet30d  \n",
            "0                NaN        NaN            NaN           NaN  \n",
            "1                NaN        NaN            NaN           NaN  \n",
            "2                NaN        NaN            NaN           NaN  \n",
            "3                NaN        NaN            NaN           NaN  \n",
            "4                NaN        NaN            NaN           NaN  \n",
            "...              ...        ...            ...           ...  \n",
            "4841       99.086460  15.583166       0.033135      0.029868  \n",
            "4842       99.777911  15.612066       0.033103      0.029801  \n",
            "4843       96.831460  15.647105       0.033177      0.026688  \n",
            "4844       84.550624  15.641264       0.032997      0.024055  \n",
            "4845             NaN        NaN            NaN           NaN  \n",
            "\n",
            "[4846 rows x 144 columns]>\n",
            "Type of elements in dataframe (dtypes):\n",
            " time                datetime64[ns]\n",
            "AdrActCnt                  float64\n",
            "AdrBal1in100KCnt           float64\n",
            "AdrBal1in100MCnt           float64\n",
            "AdrBal1in10BCnt            float64\n",
            "                         ...      \n",
            "TxTfrValMedNtv             float64\n",
            "TxTfrValMedUSD             float64\n",
            "VelCur1yr                  float64\n",
            "VtyDayRet180d              float64\n",
            "VtyDayRet30d               float64\n",
            "Length: 144, dtype: object\n",
            "First 5 elements of dataframe (time as index):\n",
            "             AdrActCnt  AdrBal1in100KCnt  AdrBal1in100MCnt  AdrBal1in10BCnt  \\\n",
            "time                                                                         \n",
            "2009-01-03        0.0               0.0               0.0              0.0   \n",
            "2009-01-04        0.0               0.0               0.0              0.0   \n",
            "2009-01-05        0.0               0.0               0.0              0.0   \n",
            "2009-01-06        0.0               0.0               0.0              0.0   \n",
            "2009-01-07        0.0               0.0               0.0              0.0   \n",
            "\n",
            "            AdrBal1in10KCnt  AdrBal1in10MCnt  AdrBal1in1BCnt  AdrBal1in1KCnt  \\\n",
            "time                                                                           \n",
            "2009-01-03              0.0              0.0             0.0             0.0   \n",
            "2009-01-04              0.0              0.0             0.0             0.0   \n",
            "2009-01-05              0.0              0.0             0.0             0.0   \n",
            "2009-01-06              0.0              0.0             0.0             0.0   \n",
            "2009-01-07              0.0              0.0             0.0             0.0   \n",
            "\n",
            "            AdrBal1in1MCnt  AdrBalCnt  ...  TxTfrCnt  TxTfrValAdjNtv  \\\n",
            "time                                   ...                             \n",
            "2009-01-03             0.0        0.0  ...       0.0             0.0   \n",
            "2009-01-04             0.0        0.0  ...       0.0             0.0   \n",
            "2009-01-05             0.0        0.0  ...       0.0             0.0   \n",
            "2009-01-06             0.0        0.0  ...       0.0             0.0   \n",
            "2009-01-07             0.0        0.0  ...       0.0             0.0   \n",
            "\n",
            "            TxTfrValAdjUSD  TxTfrValMeanNtv  TxTfrValMeanUSD  TxTfrValMedNtv  \\\n",
            "time                                                                           \n",
            "2009-01-03             NaN              NaN              NaN             NaN   \n",
            "2009-01-04             NaN              NaN              NaN             NaN   \n",
            "2009-01-05             NaN              NaN              NaN             NaN   \n",
            "2009-01-06             NaN              NaN              NaN             NaN   \n",
            "2009-01-07             NaN              NaN              NaN             NaN   \n",
            "\n",
            "            TxTfrValMedUSD  VelCur1yr  VtyDayRet180d  VtyDayRet30d  \n",
            "time                                                                \n",
            "2009-01-03             NaN        NaN            NaN           NaN  \n",
            "2009-01-04             NaN        NaN            NaN           NaN  \n",
            "2009-01-05             NaN        NaN            NaN           NaN  \n",
            "2009-01-06             NaN        NaN            NaN           NaN  \n",
            "2009-01-07             NaN        NaN            NaN           NaN  \n",
            "\n",
            "[5 rows x 143 columns]\n",
            "Time as index:\n",
            " DatetimeIndex(['2009-01-03', '2009-01-04', '2009-01-05', '2009-01-06',\n",
            "               '2009-01-07', '2009-01-08', '2009-01-09', '2009-01-10',\n",
            "               '2009-01-11', '2009-01-12',\n",
            "               ...\n",
            "               '2022-04-01', '2022-04-02', '2022-04-03', '2022-04-04',\n",
            "               '2022-04-05', '2022-04-06', '2022-04-07', '2022-04-08',\n",
            "               '2022-04-09', '2022-04-10'],\n",
            "              dtype='datetime64[ns]', name='time', length=4846, freq=None)\n",
            "Values on 23/02/2022 AdrActCnt           7.415340e+05\n",
            "AdrBal1in100KCnt    9.245000e+03\n",
            "AdrBal1in100MCnt    2.285279e+06\n",
            "AdrBal1in10BCnt     1.639970e+07\n",
            "AdrBal1in10KCnt     1.032000e+03\n",
            "                        ...     \n",
            "TxTfrValMedNtv      2.318420e-03\n",
            "TxTfrValMedUSD      8.937885e+01\n",
            "VelCur1yr           1.507217e+01\n",
            "VtyDayRet180d       3.396919e-02\n",
            "VtyDayRet30d        3.235660e-02\n",
            "Name: 2022-02-20 00:00:00, Length: 143, dtype: float64\n",
            "Values from 23/02/2022 to 25/02/2022             AdrActCnt  AdrBal1in100KCnt  AdrBal1in100MCnt  AdrBal1in10BCnt  \\\n",
            "time                                                                         \n",
            "2022-02-23   859810.0            9240.0         2290727.0       16439459.0   \n",
            "2022-02-24   958866.0            9227.0         2292374.0       16456625.0   \n",
            "2022-02-25   936543.0            9250.0         2294137.0       16475439.0   \n",
            "\n",
            "            AdrBal1in10KCnt  AdrBal1in10MCnt  AdrBal1in1BCnt  AdrBal1in1KCnt  \\\n",
            "time                                                                           \n",
            "2022-02-23           1033.0         469579.0       7056052.0            44.0   \n",
            "2022-02-24           1028.0         470060.0       7060911.0            45.0   \n",
            "2022-02-25           1026.0         470413.0       7068418.0            45.0   \n",
            "\n",
            "            AdrBal1in1MCnt   AdrBalCnt  ...  TxTfrCnt  TxTfrValAdjNtv  \\\n",
            "time                                    ...                             \n",
            "2022-02-23         98606.0  40361141.0  ...  759307.0   227616.494729   \n",
            "2022-02-24         98549.0  40376516.0  ...  816310.0   524207.429917   \n",
            "2022-02-25         98663.0  40415010.0  ...  833323.0   401712.990960   \n",
            "\n",
            "            TxTfrValAdjUSD  TxTfrValMeanNtv  TxTfrValMeanUSD  TxTfrValMedNtv  \\\n",
            "time                                                                           \n",
            "2022-02-23    8.491977e+09         0.712036     26564.835700        0.002655   \n",
            "2022-02-24    2.006865e+10         1.464978     56084.893488        0.003009   \n",
            "2022-02-25    1.579687e+10         1.185713     46626.720055        0.002633   \n",
            "\n",
            "            TxTfrValMedUSD  VelCur1yr  VtyDayRet180d  VtyDayRet30d  \n",
            "time                                                                \n",
            "2022-02-23       99.043753  15.095136       0.033915      0.032273  \n",
            "2022-02-24      115.198222  15.123301       0.033976      0.032577  \n",
            "2022-02-25      103.537914  15.123171       0.034040      0.032896  \n",
            "\n",
            "[3 rows x 143 columns]\n",
            "Values for all the values of february             AdrActCnt  AdrBal1in100KCnt  AdrBal1in100MCnt  AdrBal1in10BCnt  \\\n",
            "time                                                                         \n",
            "2022-02-01  1058396.0            9233.0         2271285.0       16417644.0   \n",
            "2022-02-02   954043.0            9233.0         2272043.0       16408783.0   \n",
            "2022-02-03   931571.0            9217.0         2272970.0       16424064.0   \n",
            "2022-02-04   885216.0            9235.0         2274424.0       16450987.0   \n",
            "2022-02-05   951087.0            9230.0         2274174.0       16450911.0   \n",
            "2022-02-06   891700.0            9230.0         2274209.0       16430585.0   \n",
            "2022-02-07   927917.0            9219.0         2275927.0       16449556.0   \n",
            "2022-02-08  1014770.0            9224.0         2275201.0       16428659.0   \n",
            "2022-02-09   998247.0            9225.0         2276281.0       16408149.0   \n",
            "2022-02-10  1029721.0            9234.0         2276799.0       16404218.0   \n",
            "2022-02-11   987669.0            9233.0         2277900.0       16389330.0   \n",
            "2022-02-12  1060262.0            9231.0         2277985.0       16330480.0   \n",
            "2022-02-13   829229.0            9237.0         2278554.0       16348905.0   \n",
            "2022-02-14   899786.0            9237.0         2279661.0       16352854.0   \n",
            "2022-02-15  1013694.0            9239.0         2280319.0       16337937.0   \n",
            "2022-02-16   925324.0            9239.0         2280884.0       16348704.0   \n",
            "2022-02-17   931220.0            9239.0         2281397.0       16357715.0   \n",
            "2022-02-18   940726.0            9242.0         2282719.0       16366661.0   \n",
            "2022-02-19   839236.0            9243.0         2284197.0       16380981.0   \n",
            "2022-02-20   741534.0            9245.0         2285279.0       16399704.0   \n",
            "2022-02-21   886316.0            9238.0         2286953.0       16405579.0   \n",
            "2022-02-22   886571.0            9238.0         2289005.0       16410527.0   \n",
            "2022-02-23   859810.0            9240.0         2290727.0       16439459.0   \n",
            "2022-02-24   958866.0            9227.0         2292374.0       16456625.0   \n",
            "2022-02-25   936543.0            9250.0         2294137.0       16475439.0   \n",
            "2022-02-26   818914.0            9247.0         2295452.0       16491599.0   \n",
            "2022-02-27   768705.0            9236.0         2297934.0       16520612.0   \n",
            "2022-02-28   981066.0            9411.0         2301582.0       16536120.0   \n",
            "\n",
            "            AdrBal1in10KCnt  AdrBal1in10MCnt  AdrBal1in1BCnt  AdrBal1in1KCnt  \\\n",
            "time                                                                           \n",
            "2022-02-01           1029.0         467660.0       7007090.0            44.0   \n",
            "2022-02-02           1031.0         467879.0       7008943.0            44.0   \n",
            "2022-02-03           1036.0         468118.0       7012338.0            44.0   \n",
            "2022-02-04           1036.0         468245.0       7019870.0            44.0   \n",
            "2022-02-05           1036.0         467968.0       7020335.0            44.0   \n",
            "2022-02-06           1035.0         468044.0       7017977.0            44.0   \n",
            "2022-02-07           1039.0         468066.0       7023451.0            44.0   \n",
            "2022-02-08           1036.0         468020.0       7016703.0            45.0   \n",
            "2022-02-09           1032.0         468317.0       7017086.0            45.0   \n",
            "2022-02-10           1035.0         468256.0       7018879.0            45.0   \n",
            "2022-02-11           1036.0         468533.0       7009551.0            45.0   \n",
            "2022-02-12           1035.0         468579.0       7000607.0            45.0   \n",
            "2022-02-13           1036.0         468571.0       7003940.0            45.0   \n",
            "2022-02-14           1035.0         468594.0       7008008.0            45.0   \n",
            "2022-02-15           1032.0         468594.0       7010473.0            45.0   \n",
            "2022-02-16           1034.0         468426.0       7015101.0            45.0   \n",
            "2022-02-17           1032.0         468680.0       7017233.0            45.0   \n",
            "2022-02-18           1031.0         468609.0       7023151.0            44.0   \n",
            "2022-02-19           1033.0         469052.0       7027956.0            44.0   \n",
            "2022-02-20           1032.0         469158.0       7034834.0            44.0   \n",
            "2022-02-21           1034.0         469264.0       7040515.0            44.0   \n",
            "2022-02-22           1031.0         469513.0       7047433.0            44.0   \n",
            "2022-02-23           1033.0         469579.0       7056052.0            44.0   \n",
            "2022-02-24           1028.0         470060.0       7060911.0            45.0   \n",
            "2022-02-25           1026.0         470413.0       7068418.0            45.0   \n",
            "2022-02-26           1028.0         470578.0       7072060.0            45.0   \n",
            "2022-02-27           1029.0         470768.0       7082434.0            45.0   \n",
            "2022-02-28            979.0         471419.0       7095869.0            45.0   \n",
            "\n",
            "            AdrBal1in1MCnt   AdrBalCnt  ...  TxTfrCnt  TxTfrValAdjNtv  \\\n",
            "time                                    ...                             \n",
            "2022-02-01         98716.0  40315377.0  ...  831877.0   397777.976451   \n",
            "2022-02-02         98609.0  40314739.0  ...  811807.0   257181.992975   \n",
            "2022-02-03         98596.0  40337333.0  ...  832681.0   343305.410915   \n",
            "2022-02-04         98592.0  40434918.0  ...  790167.0   345539.439250   \n",
            "2022-02-05         98656.0  40446074.0  ...  794343.0   416034.405998   \n",
            "2022-02-06         98633.0  40378945.0  ...  691984.0   239164.018609   \n",
            "2022-02-07         98628.0  40410265.0  ...  787885.0   563049.957246   \n",
            "2022-02-08         98605.0  40410566.0  ...  831648.0   399277.965771   \n",
            "2022-02-09         98680.0  40391659.0  ...  784468.0   391023.790315   \n",
            "2022-02-10         98615.0  40380667.0  ...  818627.0   451152.410744   \n",
            "2022-02-11         98560.0  40383322.0  ...  790000.0   356755.956793   \n",
            "2022-02-12         98599.0  40174387.0  ...  759715.0   110772.361067   \n",
            "2022-02-13         98554.0  40212754.0  ...  702523.0   110952.012183   \n",
            "2022-02-14         98500.0  40225026.0  ...  756408.0   402847.021095   \n",
            "2022-02-15         98514.0  40183224.0  ...  814867.0   407608.408043   \n",
            "2022-02-16         98459.0  40237027.0  ...  811961.0   383604.670095   \n",
            "2022-02-17         98481.0  40277701.0  ...  796035.0   512083.446886   \n",
            "2022-02-18         98531.0  40282584.0  ...  808708.0   372076.898740   \n",
            "2022-02-19         98515.0  40250859.0  ...  684068.0   371572.551453   \n",
            "2022-02-20         98534.0  40299669.0  ...  654791.0   239423.548228   \n",
            "2022-02-21         98537.0  40315837.0  ...  733105.0   587855.062933   \n",
            "2022-02-22         98506.0  40325204.0  ...  761175.0   399442.002766   \n",
            "2022-02-23         98606.0  40361141.0  ...  759307.0   227616.494729   \n",
            "2022-02-24         98549.0  40376516.0  ...  816310.0   524207.429917   \n",
            "2022-02-25         98663.0  40415010.0  ...  833323.0   401712.990960   \n",
            "2022-02-26         98705.0  40444048.0  ...  709986.0   148529.765933   \n",
            "2022-02-27         98695.0  40487989.0  ...  689832.0   183812.226348   \n",
            "2022-02-28         98896.0  40527746.0  ...  843962.0   715974.414477   \n",
            "\n",
            "            TxTfrValAdjUSD  TxTfrValMeanNtv  TxTfrValMeanUSD  TxTfrValMedNtv  \\\n",
            "time                                                                           \n",
            "2022-02-01    1.542900e+10         1.250524     48505.291861        0.002859   \n",
            "2022-02-02    9.500902e+09         0.807143     29817.736225        0.002771   \n",
            "2022-02-03    1.272209e+10         0.929959     34462.085077        0.002707   \n",
            "2022-02-04    1.419473e+10         2.679168    110059.981091        0.002689   \n",
            "2022-02-05    1.726900e+10         1.034110     42924.422082        0.002338   \n",
            "2022-02-06    1.013056e+10         0.763523     32341.459156        0.002300   \n",
            "2022-02-07    2.471169e+10         1.927898     84613.458767        0.002608   \n",
            "2022-02-08    1.763509e+10         1.121618     49538.992451        0.002425   \n",
            "2022-02-09    1.736344e+10         0.984197     43703.361695        0.002460   \n",
            "2022-02-10    1.967672e+10         1.451310     63297.940919        0.002407   \n",
            "2022-02-11    1.511123e+10         1.097810     46500.284087        0.002460   \n",
            "2022-02-12    4.671654e+09         0.332302     14014.328531        0.001927   \n",
            "2022-02-13    4.681686e+09         0.307039     12955.700912        0.002262   \n",
            "2022-02-14    1.717988e+10         1.043598     44505.435897        0.002435   \n",
            "2022-02-15    1.814343e+10         0.928367     41323.369266        0.002490   \n",
            "2022-02-16    1.690381e+10         1.154655     50880.672530        0.002296   \n",
            "2022-02-17    2.079572e+10         1.298897     52748.247519        0.002405   \n",
            "2022-02-18    1.489953e+10         1.054146     42212.446238        0.002549   \n",
            "2022-02-19    1.489853e+10         0.863995     34642.638744        0.002403   \n",
            "2022-02-20    9.230166e+09         0.746851     28792.328101        0.002318   \n",
            "2022-02-21    2.180827e+10         1.447931     53715.383221        0.002571   \n",
            "2022-02-22    1.525972e+10         1.068515     40820.056919        0.002707   \n",
            "2022-02-23    8.491977e+09         0.712036     26564.835700        0.002655   \n",
            "2022-02-24    2.006865e+10         1.464978     56084.893488        0.003009   \n",
            "2022-02-25    1.579687e+10         1.185713     46626.720055        0.002633   \n",
            "2022-02-26    5.801064e+09         0.482643     18850.375089        0.002455   \n",
            "2022-02-27    6.923247e+09         0.651857     24552.050363        0.002431   \n",
            "2022-02-28    3.091524e+10         1.464754     63247.000042        0.002916   \n",
            "\n",
            "            TxTfrValMedUSD  VelCur1yr  VtyDayRet180d  VtyDayRet30d  \n",
            "time                                                                \n",
            "2022-02-01      110.913020  14.789602       0.033409      0.028479  \n",
            "2022-02-02      102.365351  14.796516       0.033436      0.029424  \n",
            "2022-02-03      100.299130  14.809577       0.033305      0.029477  \n",
            "2022-02-04      110.464278  14.885651       0.034186      0.034446  \n",
            "2022-02-05       97.044573  14.895419       0.033979      0.034492  \n",
            "2022-02-06       97.434931  14.899368       0.033993      0.033968  \n",
            "2022-02-07      114.455438  14.956604       0.034096      0.034545  \n",
            "2022-02-08      107.106054  14.963574       0.034035      0.034556  \n",
            "2022-02-09      109.236480  14.959677       0.033608      0.034555  \n",
            "2022-02-10      104.969255  14.988051       0.033621      0.034518  \n",
            "2022-02-11      104.199011  15.003402       0.033690      0.034550  \n",
            "2022-02-12       81.260454  14.985326       0.033647      0.034104  \n",
            "2022-02-13       95.445591  14.980032       0.033584      0.034036  \n",
            "2022-02-14      103.846389  15.003240       0.033591      0.034095  \n",
            "2022-02-15      110.855573  15.019410       0.033631      0.034997  \n",
            "2022-02-16      101.174868  15.041055       0.033390      0.034783  \n",
            "2022-02-17       97.669951  15.064489       0.033932      0.037932  \n",
            "2022-02-18      102.076122  15.078502       0.033941      0.037917  \n",
            "2022-02-19       96.342198  15.071746       0.033939      0.037656  \n",
            "2022-02-20       89.378853  15.072165       0.033969      0.032357  \n",
            "2022-02-21       95.374413  15.099879       0.034036      0.032203  \n",
            "2022-02-22      103.402197  15.109803       0.034005      0.031991  \n",
            "2022-02-23       99.043753  15.095136       0.033915      0.032273  \n",
            "2022-02-24      115.198222  15.123301       0.033976      0.032577  \n",
            "2022-02-25      103.537914  15.123171       0.034040      0.032896  \n",
            "2022-02-26       95.898936  15.109561       0.033931      0.032930  \n",
            "2022-02-27       91.549519  15.113229       0.034031      0.033457  \n",
            "2022-02-28      125.905956  15.159803       0.035473      0.041744  \n",
            "\n",
            "[28 rows x 143 columns]\n"
          ]
        }
      ],
      "source": [
        "btc_data = pd.read_csv('btc.csv', parse_dates=True)\n",
        "\n",
        "print('Dimension of dataframe:\\n', btc_data.shape)\n",
        "print('First 5 elements of dataframe:\\n', btc_data.head(5))\n",
        "print('Last 5 elements of dataframe:\\n', btc_data.tail(5))\n",
        "print('Type of elements in dataframe (info):\\n', btc_data.info)\n",
        "\n",
        "btc_data['time'] = pd.to_datetime(btc_data['time'])\n",
        "btc_data['time'].dt.year.unique()\n",
        "print('Type of elements in dataframe (dtypes):\\n', btc_data.dtypes)\n",
        "\n",
        "btc_data = btc_data.set_index('time')\n",
        "\n",
        "print('First 5 elements of dataframe (time as index):\\n',btc_data.head(5))\n",
        "print('Time as index:\\n', btc_data.index)\n",
        "print('Values on 23/02/2022', btc_data.loc[\"2022-02-20\"])\n",
        "print('Values from 23/02/2022 to 25/02/2022', btc_data.loc[\"2022-02-23\":\"2022-02-25\"])\n",
        "print('Values for all the values of february', btc_data.loc[\"2022-02\"])"
      ]
    },
    {
      "cell_type": "markdown",
      "metadata": {
        "id": "Ljvv7H21aRUe"
      },
      "source": [
        "# ANALYSES GRAPHIQUES\n"
      ]
    },
    {
      "cell_type": "markdown",
      "metadata": {
        "id": "A2njVOBZLkiu"
      },
      "source": [
        "Graphes comparant le nombres de blocks temporaires crées et le nombre d'adresses utilisées depuis la création du bitcoin"
      ]
    },
    {
      "cell_type": "code",
      "execution_count": 3,
      "metadata": {
        "colab": {
          "base_uri": "https://localhost:8080/",
          "height": 616
        },
        "id": "5xVXv50UZVHV",
        "outputId": "7717ba58-75b4-49cb-9be7-ad4e2d3f7339"
      },
      "outputs": [
        {
          "data": {
            "image/png": "[encoded data removed]",
            "text/plain": [
              "<Figure size 720x720 with 2 Axes>"
            ]
          },
          "metadata": {
            "needs_background": "light"
          },
          "output_type": "display_data"
        }
      ],
      "source": [
        "axes = btc_data[[\"AdrActCnt\", \"AdrBalUSD1KCnt\"]].plot(subplots = True, figsize = (10, 10))\n",
        "axes[0].set_ylabel('USD')\n",
        "axes[1].set_xlabel(\"Time\");"
      ]
    },
    {
      "cell_type": "markdown",
      "metadata": {
        "id": "cVoQnDkkbvIL"
      },
      "source": [
        "**Graphes comparant le nombres de blocks temporaires crées et le nombre d'adresses utilisées  ainsi que le prix du bitcoin depuis la création du bitcoin**"
      ]
    },
    {
      "cell_type": "code",
      "execution_count": 4,
      "metadata": {
        "colab": {
          "base_uri": "https://localhost:8080/",
          "height": 606
        },
        "id": "3NHoLGBZcC5w",
        "outputId": "84200330-4a3a-49fe-9b63-6bb162094d39"
      },
      "outputs": [
        {
          "data": {
            "image/png": "[encoded data removed]",
            "text/plain": [
              "<Figure size 720x720 with 3 Axes>"
            ]
          },
          "metadata": {
            "needs_background": "light"
          },
          "output_type": "display_data"
        }
      ],
      "source": [
        "axes = btc_data[[\"BlkCnt\", \"AdrActCnt\",\"PriceUSD\"]].plot(subplots = True, figsize = (10, 10))\n",
        "axes[0].set_ylabel('USD')\n",
        "axes[1].set_xlabel(\"Days\");"
      ]
    },
    {
      "cell_type": "markdown",
      "metadata": {
        "id": "qEr3azi4cWSG"
      },
      "source": [
        "Comparaison du prix, adresses et block entre le 2010-07-01 et le 2010-07-22"
      ]
    },
    {
      "cell_type": "code",
      "execution_count": 5,
      "metadata": {
        "colab": {
          "base_uri": "https://localhost:8080/",
          "height": 279
        },
        "id": "qRHUVZYrcWjX",
        "outputId": "803849af-58fd-45a8-f266-d88f0f8aa618"
      },
      "outputs": [
        {
          "data": {
            "image/png": "[encoded data removed]",
            "text/plain": [
              "<Figure size 432x288 with 3 Axes>"
            ]
          },
          "metadata": {
            "needs_background": "light"
          },
          "output_type": "display_data"
        }
      ],
      "source": [
        "fig,(ax1,ax2,ax3)= plt.subplots(3, sharex=True)\n",
        "ax1.plot(btc_data.loc[\"2010-07-01\":\"2010-07-22\", \"PriceUSD\"] ,'tab:orange')   \n",
        "ax1.set_xlabel(\"Valeur du bicoin en dollars\");\n",
        "ax2.plot(btc_data.loc[\"2010-07-01\":\"2010-07-22\", \"BlkCnt\"])\n",
        "ax2.set_xlabel(\"Nombres de blocks\");\n",
        "ax3.plot(btc_data.loc[\"2010-07-01\":\"2010-07-22\", \"AdrActCnt\"])\n",
        "ax3.set_xlabel(\"Nombres adresses\");"
      ]
    },
    {
      "cell_type": "markdown",
      "metadata": {
        "id": "m36bMtoAzurl"
      },
      "source": [
        "# BOXPLOT"
      ]
    },
    {
      "cell_type": "markdown",
      "metadata": {
        "id": "NSXJll4Sh_SI"
      },
      "source": [
        "Box plots comparant le nombres de blocks temporaires crées et le nombre d'adresses utilisées depuis la création du bitcoin"
      ]
    },
    {
      "cell_type": "code",
      "execution_count": 6,
      "metadata": {
        "colab": {
          "base_uri": "https://localhost:8080/",
          "height": 573
        },
        "id": "rULb_8VlahK0",
        "outputId": "d3e5f6f0-b278-42cd-c9ea-44728bb6420b"
      },
      "outputs": [
        {
          "data": {
            "image/png": "[encoded data removed]",
            "text/plain": [
              "<Figure size 432x288 with 1 Axes>"
            ]
          },
          "metadata": {
            "needs_background": "light"
          },
          "output_type": "display_data"
        },
        {
          "data": {
            "image/png": "[encoded data removed]",
            "text/plain": [
              "<Figure size 432x288 with 1 Axes>"
            ]
          },
          "metadata": {
            "needs_background": "light"
          },
          "output_type": "display_data"
        }
      ],
      "source": [
        "ax1 = sns.boxplot(data=btc_data, x=btc_data.index.month, y='AdrActCnt');\n",
        "ax1.set_ylabel(\"AdrActCnt (USD)\")\n",
        "ax1.set_xlabel(\"Months\")\n",
        "ax1.set_title(\"Bitcoin\");\n",
        "plt.show()\n",
        "\n",
        "ax2 = sns.boxplot(data=btc_data, x=btc_data.index.month, y='AdrBalUSD1KCnt');\n",
        "ax2.set_ylabel(\"AdrBalUSD1KCnt (USD)\")\n",
        "ax2.set_xlabel(\"Months\")\n",
        "ax2.set_title(\"Bitcoin\");"
      ]
    },
    {
      "cell_type": "markdown",
      "metadata": {
        "id": "J3X73hbHjStJ"
      },
      "source": [
        "Box plots comparant le nombres de blocks temporaires crées et le nombre d'adresses utilisées ainsi que le prix du bitcoin depuis la création du bitcoin"
      ]
    },
    {
      "cell_type": "code",
      "execution_count": 7,
      "metadata": {
        "colab": {
          "base_uri": "https://localhost:8080/",
          "height": 851
        },
        "id": "WLhrheqwiKS5",
        "outputId": "60a1aee7-0ce6-431f-bfd7-925a9c1e99ed"
      },
      "outputs": [
        {
          "data": {
            "image/png": "[encoded data removed]",
            "text/plain": [
              "<Figure size 432x288 with 1 Axes>"
            ]
          },
          "metadata": {
            "needs_background": "light"
          },
          "output_type": "display_data"
        },
        {
          "data": {
            "image/png": "[encoded data removed]",
            "text/plain": [
              "<Figure size 432x288 with 1 Axes>"
            ]
          },
          "metadata": {
            "needs_background": "light"
          },
          "output_type": "display_data"
        },
        {
          "data": {
            "image/png": "[encoded data removed]",
            "text/plain": [
              "<Figure size 432x288 with 1 Axes>"
            ]
          },
          "metadata": {
            "needs_background": "light"
          },
          "output_type": "display_data"
        }
      ],
      "source": [
        "ax1 = sns.boxplot(data=btc_data, x=btc_data.index.month, y='BlkCnt');\n",
        "ax1.set_ylabel(\"BlkCnt (USD)\")\n",
        "ax1.set_xlabel(\"Months\")\n",
        "ax1.set_title(\"Bitcoin\");\n",
        "plt.show()\n",
        "\n",
        "ax2 = sns.boxplot(data=btc_data, x=btc_data.index.month, y='AdrActCnt');\n",
        "ax2.set_ylabel(\"AdrActCnt (USD)\")\n",
        "ax2.set_xlabel(\"Months\")\n",
        "ax2.set_title(\"Bitcoin\");\n",
        "plt.show()\n",
        "\n",
        "ax3 = sns.boxplot(data=btc_data, x=btc_data.index.month, y='PriceUSD');\n",
        "ax3.set_ylabel(\"PriceUSD (USD)\")\n",
        "ax3.set_xlabel(\"Months\")\n",
        "ax3.set_title(\"Bitcoin\");"
      ]
    },
    {
      "cell_type": "markdown",
      "metadata": {
        "id": "WXqrPD8BnzyE"
      },
      "source": [
        "# AUTOCORRELATION"
      ]
    },
    {
      "cell_type": "markdown",
      "metadata": {
        "id": "HvN2Zbs4uaDR"
      },
      "source": [
        "!!!Ne marche pas!!!"
      ]
    },
    {
      "cell_type": "code",
      "execution_count": 8,
      "metadata": {
        "colab": {
          "base_uri": "https://localhost:8080/",
          "height": 283
        },
        "id": "Fbb1lpOSoF09",
        "outputId": "fae90c49-1611-4c5c-bd64-3795cba89406"
      },
      "outputs": [
        {
          "data": {
            "image/png": "[encoded data removed]",
            "text/plain": [
              "<Figure size 432x288 with 1 Axes>"
            ]
          },
          "metadata": {
            "needs_background": "light"
          },
          "output_type": "display_data"
        }
      ],
      "source": [
        "from pandas.plotting import autocorrelation_plot\n",
        "\n",
        "x = pd.plotting.autocorrelation_plot(btc_data[\"PriceUSD\"])\n",
        " \n",
        "# plotting the Curve\n",
        "x.plot()\n",
        " \n",
        "# Display\n",
        "plt.show()"
      ]
    },
    {
      "cell_type": "markdown",
      "metadata": {
        "id": "JqT1gWGUuhJV"
      },
      "source": [
        "# FREQUENCES"
      ]
    },
    {
      "cell_type": "markdown",
      "metadata": {
        "id": "R1BNdmA8veLP"
      },
      "source": [
        "On vérifie l'index du csv pour voir si cela est effectivement la date"
      ]
    },
    {
      "cell_type": "code",
      "execution_count": 9,
      "metadata": {
        "colab": {
          "base_uri": "https://localhost:8080/"
        },
        "id": "lYO2-MGRu0dQ",
        "outputId": "5d105bc6-cf8f-486f-e57a-cb66bb32cb72"
      },
      "outputs": [
        {
          "data": {
            "text/plain": [
              "DatetimeIndex(['2009-01-03', '2009-01-04', '2009-01-05', '2009-01-06',\n",
              "               '2009-01-07', '2009-01-08', '2009-01-09', '2009-01-10',\n",
              "               '2009-01-11', '2009-01-12',\n",
              "               ...\n",
              "               '2022-04-01', '2022-04-02', '2022-04-03', '2022-04-04',\n",
              "               '2022-04-05', '2022-04-06', '2022-04-07', '2022-04-08',\n",
              "               '2022-04-09', '2022-04-10'],\n",
              "              dtype='datetime64[ns]', name='time', length=4846, freq=None)"
            ]
          },
          "execution_count": 9,
          "metadata": {},
          "output_type": "execute_result"
        }
      ],
      "source": [
        "btc_data.index"
      ]
    },
    {
      "cell_type": "markdown",
      "metadata": {
        "id": "aswE03YIviqK"
      },
      "source": [
        "On regarde s'il y a des fréquences quotidiennes"
      ]
    },
    {
      "cell_type": "code",
      "execution_count": 10,
      "metadata": {
        "colab": {
          "base_uri": "https://localhost:8080/",
          "height": 418
        },
        "id": "pHceTbJMvGIj",
        "outputId": "64c21fc4-3ed7-439d-dc2f-1b1dd2a1adb2"
      },
      "outputs": [
        {
          "data": {
            "text/html": [
              "<div>\n",
              "<style scoped>\n",
              "    .dataframe tbody tr th:only-of-type {\n",
              "        vertical-align: middle;\n",
              "    }\n",
              "\n",
              "    .dataframe tbody tr th {\n",
              "        vertical-align: top;\n",
              "    }\n",
              "\n",
              "    .dataframe thead th {\n",
              "        text-align: right;\n",
              "    }\n",
              "</style>\n",
              "<table border=\"1\" class=\"dataframe\">\n",
              "  <thead>\n",
              "    <tr style=\"text-align: right;\">\n",
              "      <th></th>\n",
              "      <th>AdrActCnt</th>\n",
              "      <th>AdrBal1in100KCnt</th>\n",
              "      <th>AdrBal1in100MCnt</th>\n",
              "      <th>AdrBal1in10BCnt</th>\n",
              "      <th>AdrBal1in10KCnt</th>\n",
              "      <th>AdrBal1in10MCnt</th>\n",
              "      <th>AdrBal1in1BCnt</th>\n",
              "      <th>AdrBal1in1KCnt</th>\n",
              "      <th>AdrBal1in1MCnt</th>\n",
              "      <th>AdrBalCnt</th>\n",
              "      <th>...</th>\n",
              "      <th>TxTfrCnt</th>\n",
              "      <th>TxTfrValAdjNtv</th>\n",
              "      <th>TxTfrValAdjUSD</th>\n",
              "      <th>TxTfrValMeanNtv</th>\n",
              "      <th>TxTfrValMeanUSD</th>\n",
              "      <th>TxTfrValMedNtv</th>\n",
              "      <th>TxTfrValMedUSD</th>\n",
              "      <th>VelCur1yr</th>\n",
              "      <th>VtyDayRet180d</th>\n",
              "      <th>VtyDayRet30d</th>\n",
              "    </tr>\n",
              "    <tr>\n",
              "      <th>time</th>\n",
              "      <th></th>\n",
              "      <th></th>\n",
              "      <th></th>\n",
              "      <th></th>\n",
              "      <th></th>\n",
              "      <th></th>\n",
              "      <th></th>\n",
              "      <th></th>\n",
              "      <th></th>\n",
              "      <th></th>\n",
              "      <th></th>\n",
              "      <th></th>\n",
              "      <th></th>\n",
              "      <th></th>\n",
              "      <th></th>\n",
              "      <th></th>\n",
              "      <th></th>\n",
              "      <th></th>\n",
              "      <th></th>\n",
              "      <th></th>\n",
              "      <th></th>\n",
              "    </tr>\n",
              "  </thead>\n",
              "  <tbody>\n",
              "    <tr>\n",
              "      <th>2009-01-03</th>\n",
              "      <td>0.0</td>\n",
              "      <td>0.0</td>\n",
              "      <td>0.0</td>\n",
              "      <td>0.0</td>\n",
              "      <td>0.0</td>\n",
              "      <td>0.0</td>\n",
              "      <td>0.0</td>\n",
              "      <td>0.0</td>\n",
              "      <td>0.0</td>\n",
              "      <td>0.0</td>\n",
              "      <td>...</td>\n",
              "      <td>0.0</td>\n",
              "      <td>0.0</td>\n",
              "      <td>NaN</td>\n",
              "      <td>NaN</td>\n",
              "      <td>NaN</td>\n",
              "      <td>NaN</td>\n",
              "      <td>NaN</td>\n",
              "      <td>NaN</td>\n",
              "      <td>NaN</td>\n",
              "      <td>NaN</td>\n",
              "    </tr>\n",
              "    <tr>\n",
              "      <th>2009-01-04</th>\n",
              "      <td>0.0</td>\n",
              "      <td>0.0</td>\n",
              "      <td>0.0</td>\n",
              "      <td>0.0</td>\n",
              "      <td>0.0</td>\n",
              "      <td>0.0</td>\n",
              "      <td>0.0</td>\n",
              "      <td>0.0</td>\n",
              "      <td>0.0</td>\n",
              "      <td>0.0</td>\n",
              "      <td>...</td>\n",
              "      <td>0.0</td>\n",
              "      <td>0.0</td>\n",
              "      <td>NaN</td>\n",
              "      <td>NaN</td>\n",
              "      <td>NaN</td>\n",
              "      <td>NaN</td>\n",
              "      <td>NaN</td>\n",
              "      <td>NaN</td>\n",
              "      <td>NaN</td>\n",
              "      <td>NaN</td>\n",
              "    </tr>\n",
              "    <tr>\n",
              "      <th>2009-01-05</th>\n",
              "      <td>0.0</td>\n",
              "      <td>0.0</td>\n",
              "      <td>0.0</td>\n",
              "      <td>0.0</td>\n",
              "      <td>0.0</td>\n",
              "      <td>0.0</td>\n",
              "      <td>0.0</td>\n",
              "      <td>0.0</td>\n",
              "      <td>0.0</td>\n",
              "      <td>0.0</td>\n",
              "      <td>...</td>\n",
              "      <td>0.0</td>\n",
              "      <td>0.0</td>\n",
              "      <td>NaN</td>\n",
              "      <td>NaN</td>\n",
              "      <td>NaN</td>\n",
              "      <td>NaN</td>\n",
              "      <td>NaN</td>\n",
              "      <td>NaN</td>\n",
              "      <td>NaN</td>\n",
              "      <td>NaN</td>\n",
              "    </tr>\n",
              "    <tr>\n",
              "      <th>2009-01-06</th>\n",
              "      <td>0.0</td>\n",
              "      <td>0.0</td>\n",
              "      <td>0.0</td>\n",
              "      <td>0.0</td>\n",
              "      <td>0.0</td>\n",
              "      <td>0.0</td>\n",
              "      <td>0.0</td>\n",
              "      <td>0.0</td>\n",
              "      <td>0.0</td>\n",
              "      <td>0.0</td>\n",
              "      <td>...</td>\n",
              "      <td>0.0</td>\n",
              "      <td>0.0</td>\n",
              "      <td>NaN</td>\n",
              "      <td>NaN</td>\n",
              "      <td>NaN</td>\n",
              "      <td>NaN</td>\n",
              "      <td>NaN</td>\n",
              "      <td>NaN</td>\n",
              "      <td>NaN</td>\n",
              "      <td>NaN</td>\n",
              "    </tr>\n",
              "    <tr>\n",
              "      <th>2009-01-07</th>\n",
              "      <td>0.0</td>\n",
              "      <td>0.0</td>\n",
              "      <td>0.0</td>\n",
              "      <td>0.0</td>\n",
              "      <td>0.0</td>\n",
              "      <td>0.0</td>\n",
              "      <td>0.0</td>\n",
              "      <td>0.0</td>\n",
              "      <td>0.0</td>\n",
              "      <td>0.0</td>\n",
              "      <td>...</td>\n",
              "      <td>0.0</td>\n",
              "      <td>0.0</td>\n",
              "      <td>NaN</td>\n",
              "      <td>NaN</td>\n",
              "      <td>NaN</td>\n",
              "      <td>NaN</td>\n",
              "      <td>NaN</td>\n",
              "      <td>NaN</td>\n",
              "      <td>NaN</td>\n",
              "      <td>NaN</td>\n",
              "    </tr>\n",
              "  </tbody>\n",
              "</table>\n",
              "<p>5 rows × 143 columns</p>\n",
              "</div>"
            ],
            "text/plain": [
              "            AdrActCnt  AdrBal1in100KCnt  AdrBal1in100MCnt  AdrBal1in10BCnt  \\\n",
              "time                                                                         \n",
              "2009-01-03        0.0               0.0               0.0              0.0   \n",
              "2009-01-04        0.0               0.0               0.0              0.0   \n",
              "2009-01-05        0.0               0.0               0.0              0.0   \n",
              "2009-01-06        0.0               0.0               0.0              0.0   \n",
              "2009-01-07        0.0               0.0               0.0              0.0   \n",
              "\n",
              "            AdrBal1in10KCnt  AdrBal1in10MCnt  AdrBal1in1BCnt  AdrBal1in1KCnt  \\\n",
              "time                                                                           \n",
              "2009-01-03              0.0              0.0             0.0             0.0   \n",
              "2009-01-04              0.0              0.0             0.0             0.0   \n",
              "2009-01-05              0.0              0.0             0.0             0.0   \n",
              "2009-01-06              0.0              0.0             0.0             0.0   \n",
              "2009-01-07              0.0              0.0             0.0             0.0   \n",
              "\n",
              "            AdrBal1in1MCnt  AdrBalCnt  ...  TxTfrCnt  TxTfrValAdjNtv  \\\n",
              "time                                   ...                             \n",
              "2009-01-03             0.0        0.0  ...       0.0             0.0   \n",
              "2009-01-04             0.0        0.0  ...       0.0             0.0   \n",
              "2009-01-05             0.0        0.0  ...       0.0             0.0   \n",
              "2009-01-06             0.0        0.0  ...       0.0             0.0   \n",
              "2009-01-07             0.0        0.0  ...       0.0             0.0   \n",
              "\n",
              "            TxTfrValAdjUSD  TxTfrValMeanNtv  TxTfrValMeanUSD  TxTfrValMedNtv  \\\n",
              "time                                                                           \n",
              "2009-01-03             NaN              NaN              NaN             NaN   \n",
              "2009-01-04             NaN              NaN              NaN             NaN   \n",
              "2009-01-05             NaN              NaN              NaN             NaN   \n",
              "2009-01-06             NaN              NaN              NaN             NaN   \n",
              "2009-01-07             NaN              NaN              NaN             NaN   \n",
              "\n",
              "            TxTfrValMedUSD  VelCur1yr  VtyDayRet180d  VtyDayRet30d  \n",
              "time                                                                \n",
              "2009-01-03             NaN        NaN            NaN           NaN  \n",
              "2009-01-04             NaN        NaN            NaN           NaN  \n",
              "2009-01-05             NaN        NaN            NaN           NaN  \n",
              "2009-01-06             NaN        NaN            NaN           NaN  \n",
              "2009-01-07             NaN        NaN            NaN           NaN  \n",
              "\n",
              "[5 rows x 143 columns]"
            ]
          },
          "execution_count": 10,
          "metadata": {},
          "output_type": "execute_result"
        }
      ],
      "source": [
        "daily_data = btc_data.asfreq('D')\n",
        "daily_data.head()"
      ]
    },
    {
      "cell_type": "markdown",
      "metadata": {
        "id": "JaP2V_IQ2Vrl"
      },
      "source": [
        "# RESAMPLING"
      ]
    },
    {
      "cell_type": "markdown",
      "metadata": {
        "id": "szOdGgRf3k2L"
      },
      "source": [
        "Calcul de la moyenne"
      ]
    },
    {
      "cell_type": "code",
      "execution_count": 11,
      "metadata": {
        "colab": {
          "base_uri": "https://localhost:8080/",
          "height": 418
        },
        "id": "SaznNvYk2h_6",
        "outputId": "f8c1202c-cab5-4b7d-a430-70f9c51bb1a1"
      },
      "outputs": [
        {
          "data": {
            "text/html": [
              "<div>\n",
              "<style scoped>\n",
              "    .dataframe tbody tr th:only-of-type {\n",
              "        vertical-align: middle;\n",
              "    }\n",
              "\n",
              "    .dataframe tbody tr th {\n",
              "        vertical-align: top;\n",
              "    }\n",
              "\n",
              "    .dataframe thead th {\n",
              "        text-align: right;\n",
              "    }\n",
              "</style>\n",
              "<table border=\"1\" class=\"dataframe\">\n",
              "  <thead>\n",
              "    <tr style=\"text-align: right;\">\n",
              "      <th></th>\n",
              "      <th>AdrActCnt</th>\n",
              "      <th>AdrBal1in100KCnt</th>\n",
              "      <th>AdrBal1in100MCnt</th>\n",
              "      <th>AdrBal1in10BCnt</th>\n",
              "      <th>AdrBal1in10KCnt</th>\n",
              "      <th>AdrBal1in10MCnt</th>\n",
              "      <th>AdrBal1in1BCnt</th>\n",
              "      <th>AdrBal1in1KCnt</th>\n",
              "      <th>AdrBal1in1MCnt</th>\n",
              "      <th>AdrBalCnt</th>\n",
              "      <th>...</th>\n",
              "      <th>TxTfrCnt</th>\n",
              "      <th>TxTfrValAdjNtv</th>\n",
              "      <th>TxTfrValAdjUSD</th>\n",
              "      <th>TxTfrValMeanNtv</th>\n",
              "      <th>TxTfrValMeanUSD</th>\n",
              "      <th>TxTfrValMedNtv</th>\n",
              "      <th>TxTfrValMedUSD</th>\n",
              "      <th>VelCur1yr</th>\n",
              "      <th>VtyDayRet180d</th>\n",
              "      <th>VtyDayRet30d</th>\n",
              "    </tr>\n",
              "    <tr>\n",
              "      <th>time</th>\n",
              "      <th></th>\n",
              "      <th></th>\n",
              "      <th></th>\n",
              "      <th></th>\n",
              "      <th></th>\n",
              "      <th></th>\n",
              "      <th></th>\n",
              "      <th></th>\n",
              "      <th></th>\n",
              "      <th></th>\n",
              "      <th></th>\n",
              "      <th></th>\n",
              "      <th></th>\n",
              "      <th></th>\n",
              "      <th></th>\n",
              "      <th></th>\n",
              "      <th></th>\n",
              "      <th></th>\n",
              "      <th></th>\n",
              "      <th></th>\n",
              "      <th></th>\n",
              "    </tr>\n",
              "  </thead>\n",
              "  <tbody>\n",
              "    <tr>\n",
              "      <th>2009-12-31</th>\n",
              "      <td>97.732782</td>\n",
              "      <td>16012.674931</td>\n",
              "      <td>16025.198347</td>\n",
              "      <td>16025.424242</td>\n",
              "      <td>1162.253444</td>\n",
              "      <td>16018.917355</td>\n",
              "      <td>16025.424242</td>\n",
              "      <td>17.826446</td>\n",
              "      <td>16017.586777</td>\n",
              "      <td>1.602542e+04</td>\n",
              "      <td>...</td>\n",
              "      <td>0.592287</td>\n",
              "      <td>759.965041</td>\n",
              "      <td>NaN</td>\n",
              "      <td>1575.459594</td>\n",
              "      <td>NaN</td>\n",
              "      <td>1490.601709</td>\n",
              "      <td>NaN</td>\n",
              "      <td>0.074443</td>\n",
              "      <td>NaN</td>\n",
              "      <td>NaN</td>\n",
              "    </tr>\n",
              "    <tr>\n",
              "      <th>2010-12-31</th>\n",
              "      <td>586.641096</td>\n",
              "      <td>45090.975342</td>\n",
              "      <td>48105.767123</td>\n",
              "      <td>48335.232877</td>\n",
              "      <td>218.980822</td>\n",
              "      <td>46949.876712</td>\n",
              "      <td>48334.668493</td>\n",
              "      <td>51.394521</td>\n",
              "      <td>46469.309589</td>\n",
              "      <td>4.833604e+04</td>\n",
              "      <td>...</td>\n",
              "      <td>348.808219</td>\n",
              "      <td>27311.224635</td>\n",
              "      <td>6.616972e+03</td>\n",
              "      <td>436.306334</td>\n",
              "      <td>27.108394</td>\n",
              "      <td>142.462677</td>\n",
              "      <td>1.826968</td>\n",
              "      <td>1.476926</td>\n",
              "      <td>NaN</td>\n",
              "      <td>0.072806</td>\n",
              "    </tr>\n",
              "    <tr>\n",
              "      <th>2011-12-31</th>\n",
              "      <td>12295.013699</td>\n",
              "      <td>4185.964384</td>\n",
              "      <td>106808.235616</td>\n",
              "      <td>171339.345205</td>\n",
              "      <td>708.589041</td>\n",
              "      <td>88347.917808</td>\n",
              "      <td>158447.972603</td>\n",
              "      <td>96.953425</td>\n",
              "      <td>64684.621918</td>\n",
              "      <td>2.907250e+05</td>\n",
              "      <td>...</td>\n",
              "      <td>12210.315068</td>\n",
              "      <td>192276.952975</td>\n",
              "      <td>1.280465e+06</td>\n",
              "      <td>69.041664</td>\n",
              "      <td>348.426814</td>\n",
              "      <td>1.150084</td>\n",
              "      <td>4.115153</td>\n",
              "      <td>17.212191</td>\n",
              "      <td>0.091945</td>\n",
              "      <td>0.082654</td>\n",
              "    </tr>\n",
              "    <tr>\n",
              "      <th>2012-12-31</th>\n",
              "      <td>30146.677596</td>\n",
              "      <td>8836.934426</td>\n",
              "      <td>185423.185792</td>\n",
              "      <td>367133.584699</td>\n",
              "      <td>984.868852</td>\n",
              "      <td>134225.191257</td>\n",
              "      <td>298805.081967</td>\n",
              "      <td>75.240437</td>\n",
              "      <td>80153.598361</td>\n",
              "      <td>7.614453e+05</td>\n",
              "      <td>...</td>\n",
              "      <td>49067.775956</td>\n",
              "      <td>280978.362414</td>\n",
              "      <td>2.487715e+06</td>\n",
              "      <td>48.716734</td>\n",
              "      <td>419.353287</td>\n",
              "      <td>0.319891</td>\n",
              "      <td>1.926208</td>\n",
              "      <td>54.083358</td>\n",
              "      <td>0.051386</td>\n",
              "      <td>0.035219</td>\n",
              "    </tr>\n",
              "    <tr>\n",
              "      <th>2013-12-31</th>\n",
              "      <td>82843.408219</td>\n",
              "      <td>8940.161644</td>\n",
              "      <td>308933.238356</td>\n",
              "      <td>717838.180822</td>\n",
              "      <td>980.517808</td>\n",
              "      <td>166830.873973</td>\n",
              "      <td>489230.473973</td>\n",
              "      <td>64.468493</td>\n",
              "      <td>84614.210959</td>\n",
              "      <td>1.694175e+06</td>\n",
              "      <td>...</td>\n",
              "      <td>121756.506849</td>\n",
              "      <td>323551.563195</td>\n",
              "      <td>6.021795e+07</td>\n",
              "      <td>8.829844</td>\n",
              "      <td>1518.834127</td>\n",
              "      <td>0.048970</td>\n",
              "      <td>9.281768</td>\n",
              "      <td>68.493783</td>\n",
              "      <td>0.063635</td>\n",
              "      <td>0.058025</td>\n",
              "    </tr>\n",
              "  </tbody>\n",
              "</table>\n",
              "<p>5 rows × 143 columns</p>\n",
              "</div>"
            ],
            "text/plain": [
              "               AdrActCnt  AdrBal1in100KCnt  AdrBal1in100MCnt  AdrBal1in10BCnt  \\\n",
              "time                                                                            \n",
              "2009-12-31     97.732782      16012.674931      16025.198347     16025.424242   \n",
              "2010-12-31    586.641096      45090.975342      48105.767123     48335.232877   \n",
              "2011-12-31  12295.013699       4185.964384     106808.235616    171339.345205   \n",
              "2012-12-31  30146.677596       8836.934426     185423.185792    367133.584699   \n",
              "2013-12-31  82843.408219       8940.161644     308933.238356    717838.180822   \n",
              "\n",
              "            AdrBal1in10KCnt  AdrBal1in10MCnt  AdrBal1in1BCnt  AdrBal1in1KCnt  \\\n",
              "time                                                                           \n",
              "2009-12-31      1162.253444     16018.917355    16025.424242       17.826446   \n",
              "2010-12-31       218.980822     46949.876712    48334.668493       51.394521   \n",
              "2011-12-31       708.589041     88347.917808   158447.972603       96.953425   \n",
              "2012-12-31       984.868852    134225.191257   298805.081967       75.240437   \n",
              "2013-12-31       980.517808    166830.873973   489230.473973       64.468493   \n",
              "\n",
              "            AdrBal1in1MCnt     AdrBalCnt  ...       TxTfrCnt  TxTfrValAdjNtv  \\\n",
              "time                                      ...                                  \n",
              "2009-12-31    16017.586777  1.602542e+04  ...       0.592287      759.965041   \n",
              "2010-12-31    46469.309589  4.833604e+04  ...     348.808219    27311.224635   \n",
              "2011-12-31    64684.621918  2.907250e+05  ...   12210.315068   192276.952975   \n",
              "2012-12-31    80153.598361  7.614453e+05  ...   49067.775956   280978.362414   \n",
              "2013-12-31    84614.210959  1.694175e+06  ...  121756.506849   323551.563195   \n",
              "\n",
              "            TxTfrValAdjUSD  TxTfrValMeanNtv  TxTfrValMeanUSD  TxTfrValMedNtv  \\\n",
              "time                                                                           \n",
              "2009-12-31             NaN      1575.459594              NaN     1490.601709   \n",
              "2010-12-31    6.616972e+03       436.306334        27.108394      142.462677   \n",
              "2011-12-31    1.280465e+06        69.041664       348.426814        1.150084   \n",
              "2012-12-31    2.487715e+06        48.716734       419.353287        0.319891   \n",
              "2013-12-31    6.021795e+07         8.829844      1518.834127        0.048970   \n",
              "\n",
              "            TxTfrValMedUSD  VelCur1yr  VtyDayRet180d  VtyDayRet30d  \n",
              "time                                                                \n",
              "2009-12-31             NaN   0.074443            NaN           NaN  \n",
              "2010-12-31        1.826968   1.476926            NaN      0.072806  \n",
              "2011-12-31        4.115153  17.212191       0.091945      0.082654  \n",
              "2012-12-31        1.926208  54.083358       0.051386      0.035219  \n",
              "2013-12-31        9.281768  68.493783       0.063635      0.058025  \n",
              "\n",
              "[5 rows x 143 columns]"
            ]
          },
          "execution_count": 11,
          "metadata": {},
          "output_type": "execute_result"
        }
      ],
      "source": [
        "btc_annual_mean = btc_data.resample(\"A\").mean()\n",
        "btc_annual_mean.head()"
      ]
    },
    {
      "cell_type": "markdown",
      "metadata": {
        "id": "Mu4ULrocQh4M"
      },
      "source": [
        "Graphe representant le prix du bitcoin ainsi que la moyenne quadriestrielle et annuelle de ce dernier"
      ]
    },
    {
      "cell_type": "code",
      "execution_count": 12,
      "metadata": {
        "colab": {
          "base_uri": "https://localhost:8080/",
          "height": 267
        },
        "id": "fm0nEiYV3Wdo",
        "outputId": "159bf4c2-2b0c-41ce-bf82-5e47099d1651"
      },
      "outputs": [
        {
          "data": {
            "image/png": "[encoded data removed]",
            "text/plain": [
              "<Figure size 864x288 with 1 Axes>"
            ]
          },
          "metadata": {
            "needs_background": "light"
          },
          "output_type": "display_data"
        }
      ],
      "source": [
        "fig, ax = plt.subplots(figsize = (12, 4))\n",
        "ax.plot(btc_data[\"PriceUSD\"], linestyle='-', \n",
        "        linewidth=0.2, label='Second')\n",
        "ax.plot(btc_data.resample('Q').mean()[\"PriceUSD\"], \n",
        "        marker='.', linestyle='--', linewidth=0.5, label='Daily')\n",
        "ax.plot(btc_annual_mean[\"PriceUSD\"], marker='o', markersize=8, \n",
        "        linestyle='-.', label='Quartly mean resample')\n",
        "ax.legend();"
      ]
    },
    {
      "cell_type": "markdown",
      "metadata": {
        "id": "Jv-8n2saLN4g"
      },
      "source": [
        "# ROLLING WINDOWS"
      ]
    },
    {
      "cell_type": "markdown",
      "metadata": {
        "id": "KOeXTvEZjakw"
      },
      "source": [
        "On effectue un rolling sur la durée d'une semaine"
      ]
    },
    {
      "cell_type": "code",
      "execution_count": 13,
      "metadata": {
        "colab": {
          "base_uri": "https://localhost:8080/",
          "height": 693
        },
        "id": "-P5UhihaL5GH",
        "outputId": "ed5baff5-e4c1-4bc7-ed10-419e0b66d989"
      },
      "outputs": [
        {
          "data": {
            "text/html": [
              "<div>\n",
              "<style scoped>\n",
              "    .dataframe tbody tr th:only-of-type {\n",
              "        vertical-align: middle;\n",
              "    }\n",
              "\n",
              "    .dataframe tbody tr th {\n",
              "        vertical-align: top;\n",
              "    }\n",
              "\n",
              "    .dataframe thead th {\n",
              "        text-align: right;\n",
              "    }\n",
              "</style>\n",
              "<table border=\"1\" class=\"dataframe\">\n",
              "  <thead>\n",
              "    <tr style=\"text-align: right;\">\n",
              "      <th></th>\n",
              "      <th>AdrActCnt</th>\n",
              "      <th>AdrBal1in100KCnt</th>\n",
              "      <th>AdrBal1in100MCnt</th>\n",
              "      <th>AdrBal1in10BCnt</th>\n",
              "      <th>AdrBal1in10KCnt</th>\n",
              "      <th>AdrBal1in10MCnt</th>\n",
              "      <th>AdrBal1in1BCnt</th>\n",
              "      <th>AdrBal1in1KCnt</th>\n",
              "      <th>AdrBal1in1MCnt</th>\n",
              "      <th>AdrBalCnt</th>\n",
              "      <th>...</th>\n",
              "      <th>TxTfrCnt</th>\n",
              "      <th>TxTfrValAdjNtv</th>\n",
              "      <th>TxTfrValAdjUSD</th>\n",
              "      <th>TxTfrValMeanNtv</th>\n",
              "      <th>TxTfrValMeanUSD</th>\n",
              "      <th>TxTfrValMedNtv</th>\n",
              "      <th>TxTfrValMedUSD</th>\n",
              "      <th>VelCur1yr</th>\n",
              "      <th>VtyDayRet180d</th>\n",
              "      <th>VtyDayRet30d</th>\n",
              "    </tr>\n",
              "    <tr>\n",
              "      <th>time</th>\n",
              "      <th></th>\n",
              "      <th></th>\n",
              "      <th></th>\n",
              "      <th></th>\n",
              "      <th></th>\n",
              "      <th></th>\n",
              "      <th></th>\n",
              "      <th></th>\n",
              "      <th></th>\n",
              "      <th></th>\n",
              "      <th></th>\n",
              "      <th></th>\n",
              "      <th></th>\n",
              "      <th></th>\n",
              "      <th></th>\n",
              "      <th></th>\n",
              "      <th></th>\n",
              "      <th></th>\n",
              "      <th></th>\n",
              "      <th></th>\n",
              "      <th></th>\n",
              "    </tr>\n",
              "  </thead>\n",
              "  <tbody>\n",
              "    <tr>\n",
              "      <th>2009-01-03</th>\n",
              "      <td>NaN</td>\n",
              "      <td>NaN</td>\n",
              "      <td>NaN</td>\n",
              "      <td>NaN</td>\n",
              "      <td>NaN</td>\n",
              "      <td>NaN</td>\n",
              "      <td>NaN</td>\n",
              "      <td>NaN</td>\n",
              "      <td>NaN</td>\n",
              "      <td>NaN</td>\n",
              "      <td>...</td>\n",
              "      <td>NaN</td>\n",
              "      <td>NaN</td>\n",
              "      <td>NaN</td>\n",
              "      <td>NaN</td>\n",
              "      <td>NaN</td>\n",
              "      <td>NaN</td>\n",
              "      <td>NaN</td>\n",
              "      <td>NaN</td>\n",
              "      <td>NaN</td>\n",
              "      <td>NaN</td>\n",
              "    </tr>\n",
              "    <tr>\n",
              "      <th>2009-01-04</th>\n",
              "      <td>NaN</td>\n",
              "      <td>NaN</td>\n",
              "      <td>NaN</td>\n",
              "      <td>NaN</td>\n",
              "      <td>NaN</td>\n",
              "      <td>NaN</td>\n",
              "      <td>NaN</td>\n",
              "      <td>NaN</td>\n",
              "      <td>NaN</td>\n",
              "      <td>NaN</td>\n",
              "      <td>...</td>\n",
              "      <td>NaN</td>\n",
              "      <td>NaN</td>\n",
              "      <td>NaN</td>\n",
              "      <td>NaN</td>\n",
              "      <td>NaN</td>\n",
              "      <td>NaN</td>\n",
              "      <td>NaN</td>\n",
              "      <td>NaN</td>\n",
              "      <td>NaN</td>\n",
              "      <td>NaN</td>\n",
              "    </tr>\n",
              "    <tr>\n",
              "      <th>2009-01-05</th>\n",
              "      <td>NaN</td>\n",
              "      <td>NaN</td>\n",
              "      <td>NaN</td>\n",
              "      <td>NaN</td>\n",
              "      <td>NaN</td>\n",
              "      <td>NaN</td>\n",
              "      <td>NaN</td>\n",
              "      <td>NaN</td>\n",
              "      <td>NaN</td>\n",
              "      <td>NaN</td>\n",
              "      <td>...</td>\n",
              "      <td>NaN</td>\n",
              "      <td>NaN</td>\n",
              "      <td>NaN</td>\n",
              "      <td>NaN</td>\n",
              "      <td>NaN</td>\n",
              "      <td>NaN</td>\n",
              "      <td>NaN</td>\n",
              "      <td>NaN</td>\n",
              "      <td>NaN</td>\n",
              "      <td>NaN</td>\n",
              "    </tr>\n",
              "    <tr>\n",
              "      <th>2009-01-06</th>\n",
              "      <td>2.714286</td>\n",
              "      <td>2.714286</td>\n",
              "      <td>2.714286</td>\n",
              "      <td>2.714286</td>\n",
              "      <td>2.714286</td>\n",
              "      <td>2.714286</td>\n",
              "      <td>2.714286</td>\n",
              "      <td>2.714286</td>\n",
              "      <td>2.714286</td>\n",
              "      <td>2.714286</td>\n",
              "      <td>...</td>\n",
              "      <td>0.000000</td>\n",
              "      <td>0.000000</td>\n",
              "      <td>NaN</td>\n",
              "      <td>NaN</td>\n",
              "      <td>NaN</td>\n",
              "      <td>NaN</td>\n",
              "      <td>NaN</td>\n",
              "      <td>NaN</td>\n",
              "      <td>NaN</td>\n",
              "      <td>NaN</td>\n",
              "    </tr>\n",
              "    <tr>\n",
              "      <th>2009-01-07</th>\n",
              "      <td>11.428571</td>\n",
              "      <td>14.142857</td>\n",
              "      <td>14.142857</td>\n",
              "      <td>14.142857</td>\n",
              "      <td>14.142857</td>\n",
              "      <td>14.142857</td>\n",
              "      <td>14.142857</td>\n",
              "      <td>14.142857</td>\n",
              "      <td>14.142857</td>\n",
              "      <td>14.142857</td>\n",
              "      <td>...</td>\n",
              "      <td>0.000000</td>\n",
              "      <td>0.000000</td>\n",
              "      <td>NaN</td>\n",
              "      <td>NaN</td>\n",
              "      <td>NaN</td>\n",
              "      <td>NaN</td>\n",
              "      <td>NaN</td>\n",
              "      <td>NaN</td>\n",
              "      <td>NaN</td>\n",
              "      <td>NaN</td>\n",
              "    </tr>\n",
              "    <tr>\n",
              "      <th>...</th>\n",
              "      <td>...</td>\n",
              "      <td>...</td>\n",
              "      <td>...</td>\n",
              "      <td>...</td>\n",
              "      <td>...</td>\n",
              "      <td>...</td>\n",
              "      <td>...</td>\n",
              "      <td>...</td>\n",
              "      <td>...</td>\n",
              "      <td>...</td>\n",
              "      <td>...</td>\n",
              "      <td>...</td>\n",
              "      <td>...</td>\n",
              "      <td>...</td>\n",
              "      <td>...</td>\n",
              "      <td>...</td>\n",
              "      <td>...</td>\n",
              "      <td>...</td>\n",
              "      <td>...</td>\n",
              "      <td>...</td>\n",
              "      <td>...</td>\n",
              "    </tr>\n",
              "    <tr>\n",
              "      <th>2011-09-30</th>\n",
              "      <td>13906.285714</td>\n",
              "      <td>5758.714286</td>\n",
              "      <td>141707.000000</td>\n",
              "      <td>243764.714286</td>\n",
              "      <td>748.857143</td>\n",
              "      <td>110828.142857</td>\n",
              "      <td>219055.428571</td>\n",
              "      <td>94.285714</td>\n",
              "      <td>70978.857143</td>\n",
              "      <td>533554.571429</td>\n",
              "      <td>...</td>\n",
              "      <td>13258.428571</td>\n",
              "      <td>118237.479205</td>\n",
              "      <td>584673.349071</td>\n",
              "      <td>27.429851</td>\n",
              "      <td>135.877173</td>\n",
              "      <td>0.888158</td>\n",
              "      <td>4.404809</td>\n",
              "      <td>26.594037</td>\n",
              "      <td>0.106735</td>\n",
              "      <td>0.087317</td>\n",
              "    </tr>\n",
              "    <tr>\n",
              "      <th>2011-10-01</th>\n",
              "      <td>13179.142857</td>\n",
              "      <td>5784.428571</td>\n",
              "      <td>141802.285714</td>\n",
              "      <td>244058.714286</td>\n",
              "      <td>750.142857</td>\n",
              "      <td>110874.857143</td>\n",
              "      <td>219246.285714</td>\n",
              "      <td>94.000000</td>\n",
              "      <td>70993.285714</td>\n",
              "      <td>533937.428571</td>\n",
              "      <td>...</td>\n",
              "      <td>12486.571429</td>\n",
              "      <td>120904.614353</td>\n",
              "      <td>598752.908330</td>\n",
              "      <td>28.630587</td>\n",
              "      <td>141.990098</td>\n",
              "      <td>0.997016</td>\n",
              "      <td>4.946158</td>\n",
              "      <td>26.594156</td>\n",
              "      <td>0.106672</td>\n",
              "      <td>0.087375</td>\n",
              "    </tr>\n",
              "    <tr>\n",
              "      <th>2011-10-02</th>\n",
              "      <td>13137.571429</td>\n",
              "      <td>5807.142857</td>\n",
              "      <td>141884.714286</td>\n",
              "      <td>244345.428571</td>\n",
              "      <td>751.571429</td>\n",
              "      <td>110900.142857</td>\n",
              "      <td>219427.285714</td>\n",
              "      <td>93.714286</td>\n",
              "      <td>70999.000000</td>\n",
              "      <td>534304.714286</td>\n",
              "      <td>...</td>\n",
              "      <td>12344.142857</td>\n",
              "      <td>120466.826836</td>\n",
              "      <td>598944.808816</td>\n",
              "      <td>29.379844</td>\n",
              "      <td>146.096211</td>\n",
              "      <td>1.012661</td>\n",
              "      <td>5.038271</td>\n",
              "      <td>26.592986</td>\n",
              "      <td>0.106606</td>\n",
              "      <td>0.087330</td>\n",
              "    </tr>\n",
              "    <tr>\n",
              "      <th>2011-10-03</th>\n",
              "      <td>13471.285714</td>\n",
              "      <td>5815.000000</td>\n",
              "      <td>141926.714286</td>\n",
              "      <td>244589.428571</td>\n",
              "      <td>753.714286</td>\n",
              "      <td>110881.857143</td>\n",
              "      <td>219564.857143</td>\n",
              "      <td>94.000000</td>\n",
              "      <td>70955.857143</td>\n",
              "      <td>534639.285714</td>\n",
              "      <td>...</td>\n",
              "      <td>12577.714286</td>\n",
              "      <td>130275.730606</td>\n",
              "      <td>644554.212330</td>\n",
              "      <td>31.213436</td>\n",
              "      <td>154.588634</td>\n",
              "      <td>1.014090</td>\n",
              "      <td>5.038176</td>\n",
              "      <td>26.595369</td>\n",
              "      <td>0.106544</td>\n",
              "      <td>0.087044</td>\n",
              "    </tr>\n",
              "    <tr>\n",
              "      <th>2011-10-04</th>\n",
              "      <td>13471.571429</td>\n",
              "      <td>5814.714286</td>\n",
              "      <td>141956.571429</td>\n",
              "      <td>244826.857143</td>\n",
              "      <td>757.285714</td>\n",
              "      <td>110875.142857</td>\n",
              "      <td>219691.428571</td>\n",
              "      <td>94.285714</td>\n",
              "      <td>70921.285714</td>\n",
              "      <td>534972.714286</td>\n",
              "      <td>...</td>\n",
              "      <td>12590.857143</td>\n",
              "      <td>137531.709474</td>\n",
              "      <td>661610.366978</td>\n",
              "      <td>32.194028</td>\n",
              "      <td>155.983034</td>\n",
              "      <td>1.014566</td>\n",
              "      <td>4.914551</td>\n",
              "      <td>26.597951</td>\n",
              "      <td>0.106512</td>\n",
              "      <td>0.086713</td>\n",
              "    </tr>\n",
              "  </tbody>\n",
              "</table>\n",
              "<p>1005 rows × 143 columns</p>\n",
              "</div>"
            ],
            "text/plain": [
              "               AdrActCnt  AdrBal1in100KCnt  AdrBal1in100MCnt  AdrBal1in10BCnt  \\\n",
              "time                                                                            \n",
              "2009-01-03           NaN               NaN               NaN              NaN   \n",
              "2009-01-04           NaN               NaN               NaN              NaN   \n",
              "2009-01-05           NaN               NaN               NaN              NaN   \n",
              "2009-01-06      2.714286          2.714286          2.714286         2.714286   \n",
              "2009-01-07     11.428571         14.142857         14.142857        14.142857   \n",
              "...                  ...               ...               ...              ...   \n",
              "2011-09-30  13906.285714       5758.714286     141707.000000    243764.714286   \n",
              "2011-10-01  13179.142857       5784.428571     141802.285714    244058.714286   \n",
              "2011-10-02  13137.571429       5807.142857     141884.714286    244345.428571   \n",
              "2011-10-03  13471.285714       5815.000000     141926.714286    244589.428571   \n",
              "2011-10-04  13471.571429       5814.714286     141956.571429    244826.857143   \n",
              "\n",
              "            AdrBal1in10KCnt  AdrBal1in10MCnt  AdrBal1in1BCnt  AdrBal1in1KCnt  \\\n",
              "time                                                                           \n",
              "2009-01-03              NaN              NaN             NaN             NaN   \n",
              "2009-01-04              NaN              NaN             NaN             NaN   \n",
              "2009-01-05              NaN              NaN             NaN             NaN   \n",
              "2009-01-06         2.714286         2.714286        2.714286        2.714286   \n",
              "2009-01-07        14.142857        14.142857       14.142857       14.142857   \n",
              "...                     ...              ...             ...             ...   \n",
              "2011-09-30       748.857143    110828.142857   219055.428571       94.285714   \n",
              "2011-10-01       750.142857    110874.857143   219246.285714       94.000000   \n",
              "2011-10-02       751.571429    110900.142857   219427.285714       93.714286   \n",
              "2011-10-03       753.714286    110881.857143   219564.857143       94.000000   \n",
              "2011-10-04       757.285714    110875.142857   219691.428571       94.285714   \n",
              "\n",
              "            AdrBal1in1MCnt      AdrBalCnt  ...      TxTfrCnt  TxTfrValAdjNtv  \\\n",
              "time                                       ...                                 \n",
              "2009-01-03             NaN            NaN  ...           NaN             NaN   \n",
              "2009-01-04             NaN            NaN  ...           NaN             NaN   \n",
              "2009-01-05             NaN            NaN  ...           NaN             NaN   \n",
              "2009-01-06        2.714286       2.714286  ...      0.000000        0.000000   \n",
              "2009-01-07       14.142857      14.142857  ...      0.000000        0.000000   \n",
              "...                    ...            ...  ...           ...             ...   \n",
              "2011-09-30    70978.857143  533554.571429  ...  13258.428571   118237.479205   \n",
              "2011-10-01    70993.285714  533937.428571  ...  12486.571429   120904.614353   \n",
              "2011-10-02    70999.000000  534304.714286  ...  12344.142857   120466.826836   \n",
              "2011-10-03    70955.857143  534639.285714  ...  12577.714286   130275.730606   \n",
              "2011-10-04    70921.285714  534972.714286  ...  12590.857143   137531.709474   \n",
              "\n",
              "            TxTfrValAdjUSD  TxTfrValMeanNtv  TxTfrValMeanUSD  TxTfrValMedNtv  \\\n",
              "time                                                                           \n",
              "2009-01-03             NaN              NaN              NaN             NaN   \n",
              "2009-01-04             NaN              NaN              NaN             NaN   \n",
              "2009-01-05             NaN              NaN              NaN             NaN   \n",
              "2009-01-06             NaN              NaN              NaN             NaN   \n",
              "2009-01-07             NaN              NaN              NaN             NaN   \n",
              "...                    ...              ...              ...             ...   \n",
              "2011-09-30   584673.349071        27.429851       135.877173        0.888158   \n",
              "2011-10-01   598752.908330        28.630587       141.990098        0.997016   \n",
              "2011-10-02   598944.808816        29.379844       146.096211        1.012661   \n",
              "2011-10-03   644554.212330        31.213436       154.588634        1.014090   \n",
              "2011-10-04   661610.366978        32.194028       155.983034        1.014566   \n",
              "\n",
              "            TxTfrValMedUSD  VelCur1yr  VtyDayRet180d  VtyDayRet30d  \n",
              "time                                                                \n",
              "2009-01-03             NaN        NaN            NaN           NaN  \n",
              "2009-01-04             NaN        NaN            NaN           NaN  \n",
              "2009-01-05             NaN        NaN            NaN           NaN  \n",
              "2009-01-06             NaN        NaN            NaN           NaN  \n",
              "2009-01-07             NaN        NaN            NaN           NaN  \n",
              "...                    ...        ...            ...           ...  \n",
              "2011-09-30        4.404809  26.594037       0.106735      0.087317  \n",
              "2011-10-01        4.946158  26.594156       0.106672      0.087375  \n",
              "2011-10-02        5.038271  26.592986       0.106606      0.087330  \n",
              "2011-10-03        5.038176  26.595369       0.106544      0.087044  \n",
              "2011-10-04        4.914551  26.597951       0.106512      0.086713  \n",
              "\n",
              "[1005 rows x 143 columns]"
            ]
          },
          "execution_count": 13,
          "metadata": {},
          "output_type": "execute_result"
        }
      ],
      "source": [
        "btc_weekly_rolling = btc_data.rolling(window=7, center = True).mean()\n",
        "btc_weekly_rolling.head(1005)"
      ]
    },
    {
      "cell_type": "markdown",
      "metadata": {
        "id": "CrsfgFboj2ts"
      },
      "source": [
        "Graphe comparant une moyenne de 1 semaine et le rolling sur 1 semaine du prix du bitcoin en dollars"
      ]
    },
    {
      "cell_type": "code",
      "execution_count": 14,
      "metadata": {
        "colab": {
          "base_uri": "https://localhost:8080/",
          "height": 428
        },
        "id": "uDaMNQaSOLh9",
        "outputId": "e9372dad-2c95-43f9-bfce-3326ead5edd4"
      },
      "outputs": [
        {
          "data": {
            "image/png": "[encoded data removed]",
            "text/plain": [
              "<Figure size 1080x504 with 1 Axes>"
            ]
          },
          "metadata": {
            "needs_background": "light"
          },
          "output_type": "display_data"
        }
      ],
      "source": [
        "fig, ax = plt.subplots(figsize = (15, 7))\n",
        "ax.plot(btc_data[\"PriceUSD\"], linestyle='-', \n",
        "        linewidth=0.2, label='Second')\n",
        "ax.plot(btc_data.resample('W').mean()[\"PriceUSD\"], \n",
        "        marker='.', linestyle='--', linewidth=0.5, label='Weekly')\n",
        "ax.plot(btc_weekly_rolling[\"PriceUSD\"], \n",
        "        linestyle='--', linewidth=0.7, \n",
        "        label='1-W rolling mean')\n",
        "ax.legend();"
      ]
    },
    {
      "cell_type": "markdown",
      "metadata": {
        "id": "fgv5jWCUiVsr"
      },
      "source": [
        "# DECOMPOSITION D'UN TIME SERIES"
      ]
    },
    {
      "cell_type": "code",
      "execution_count": 15,
      "metadata": {
        "id": "E5Sn2rL6iqa3"
      },
      "outputs": [
        {
          "name": "stderr",
          "output_type": "stream",
          "text": [
            "C:\\Users\\maxba\\AppData\\Local\\Temp\\ipykernel_9108\\358869432.py:1: FutureWarning: pandas.util.testing is deprecated. Use the functions in the public API at pandas.testing instead.\n",
            "  import pandas.util.testing as tm\n"
          ]
        }
      ],
      "source": [
        "import pandas.util.testing as tm\n",
        "from statsmodels.tsa.seasonal import seasonal_decompose"
      ]
    },
    {
      "cell_type": "markdown",
      "metadata": {
        "id": "_P8S0PBHnxcL"
      },
      "source": [
        "On crée un nouveau date frame afin de pouvoir effacer toutes les lignes qui n'ont aucune valeur pour ce qui concerne la colonne du prix du bitcoin en dollars"
      ]
    },
    {
      "cell_type": "code",
      "execution_count": 16,
      "metadata": {
        "colab": {
          "base_uri": "https://localhost:8080/"
        },
        "id": "ZT7IHICLGEKC",
        "outputId": "400dd095-e3a0-416d-c7c7-7c1b40848365"
      },
      "outputs": [
        {
          "data": {
            "text/plain": [
              "time\n",
              "2010-07-18    0.085840\n",
              "2010-07-19    0.080800\n",
              "2010-07-20    0.074736\n",
              "2010-07-21    0.079193\n",
              "2010-07-22    0.058470\n",
              "Name: PriceUSD, dtype: float64"
            ]
          },
          "execution_count": 16,
          "metadata": {},
          "output_type": "execute_result"
        }
      ],
      "source": [
        "PUSD = btc_data['PriceUSD']\n",
        "PUSD_no_nan = PUSD.dropna()\n",
        "PUSD_no_nan.head()"
      ]
    },
    {
      "cell_type": "markdown",
      "metadata": {
        "id": "umzqVCewpHck"
      },
      "source": [
        "## Decomposing a time series\n",
        "Graphes representant les trends, les seasonality, les variations des cycles ainsi que les résidus"
      ]
    },
    {
      "cell_type": "code",
      "execution_count": 17,
      "metadata": {
        "colab": {
          "base_uri": "https://localhost:8080/",
          "height": 298
        },
        "id": "4hbK4nAemmUZ",
        "outputId": "2a231901-1d8e-46ab-fc2d-61f4a7e0cbb1"
      },
      "outputs": [
        {
          "ename": "TypeError",
          "evalue": "seasonal_decompose() got an unexpected keyword argument 'freq'",
          "output_type": "error",
          "traceback": [
            "\u001b[1;31m---------------------------------------------------------------------------\u001b[0m",
            "\u001b[1;31mTypeError\u001b[0m                                 Traceback (most recent call last)",
            "\u001b[1;32mc:\\Users\\maxba\\OneDrive - ESME\\Desktop\\S2\\Project\\BitcoinProject\\COINMETRICS\\MarcheFinanciers.ipynb Cell 43'\u001b[0m in \u001b[0;36m<cell line: 1>\u001b[1;34m()\u001b[0m\n\u001b[1;32m----> <a href='vscode-notebook-cell:/c%3A/Users/maxba/OneDrive%20-%20ESME/Desktop/S2/Project/BitcoinProject/COINMETRICS/MarcheFinanciers.ipynb#ch0000042?line=0'>1</a>\u001b[0m additive_model \u001b[39m=\u001b[39m seasonal_decompose(PUSD_no_nan, freq \u001b[39m=\u001b[39;49m \u001b[39m60\u001b[39;49m, model\u001b[39m=\u001b[39;49m\u001b[39m'\u001b[39;49m\u001b[39madditive\u001b[39;49m\u001b[39m'\u001b[39;49m)\n\u001b[0;32m      <a href='vscode-notebook-cell:/c%3A/Users/maxba/OneDrive%20-%20ESME/Desktop/S2/Project/BitcoinProject/COINMETRICS/MarcheFinanciers.ipynb#ch0000042?line=1'>2</a>\u001b[0m additive_model\u001b[39m.\u001b[39mplot()\n",
            "\u001b[1;31mTypeError\u001b[0m: seasonal_decompose() got an unexpected keyword argument 'freq'"
          ]
        }
      ],
      "source": [
        "additive_model = seasonal_decompose(PUSD_no_nan, freq = 60, model='additive')\n",
        "additive_model.plot();"
      ]
    }
  ],
  "metadata": {
    "colab": {
      "collapsed_sections": [],
      "include_colab_link": true,
      "name": "MarcheFinanciers.ipynb",
      "provenance": []
    },
    "interpreter": {
      "hash": "9475284635d26067614a2f5c1768a08b1468dbbebaf0733e7f66e6cab11f2ea7"
    },
    "kernelspec": {
      "display_name": "Python 3.9.12 ('base')",
      "language": "python",
      "name": "python3"
    },
    "language_info": {
      "codemirror_mode": {
        "name": "ipython",
        "version": 3
      },
      "file_extension": ".py",
      "mimetype": "text/x-python",
      "name": "python",
      "nbconvert_exporter": "python",
      "pygments_lexer": "ipython3",
      "version": "3.9.12"
    }
  },
  "nbformat": 4,
  "nbformat_minor": 0
}

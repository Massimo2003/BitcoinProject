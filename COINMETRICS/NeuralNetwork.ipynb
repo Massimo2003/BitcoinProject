{
 "cells": [
  {
   "cell_type": "code",
   "execution_count": null,
   "metadata": {},
   "outputs": [],
   "source": [
    "import matplotlib.pyplot as plt\n",
    "import pandas as pd\n",
    "from prophet.plot import add_changepoints_to_plot, plot_plotly, plot_components_plotly\n",
    "from prophet import Prophet"
   ]
  },
  {
   "cell_type": "markdown",
   "metadata": {},
   "source": [
    "API"
   ]
  },
  {
   "cell_type": "code",
   "execution_count": 21,
   "metadata": {},
   "outputs": [],
   "source": [
    "df = pd.read_csv('btc.csv')\n",
    "df = df[['time','PriceUSD']]\n",
    "df = df.set_index('time')"
   ]
  },
  {
   "cell_type": "code",
   "execution_count": 22,
   "metadata": {},
   "outputs": [
    {
     "ename": "ValueError",
     "evalue": "Dataframe must have columns \"ds\" and \"y\" with the dates and values respectively.",
     "output_type": "error",
     "traceback": [
      "\u001b[1;31m---------------------------------------------------------------------------\u001b[0m",
      "\u001b[1;31mValueError\u001b[0m                                Traceback (most recent call last)",
      "\u001b[1;32mc:\\Users\\maxba\\OneDrive - ESME\\Desktop\\S2\\Project\\BitcoinProject\\COINMETRICS\\NeuralNetwork.ipynb Cell 3'\u001b[0m in \u001b[0;36m<cell line: 2>\u001b[1;34m()\u001b[0m\n\u001b[0;32m      <a href='vscode-notebook-cell:/c%3A/Users/maxba/OneDrive%20-%20ESME/Desktop/S2/Project/BitcoinProject/COINMETRICS/NeuralNetwork.ipynb#ch0000002?line=0'>1</a>\u001b[0m m \u001b[39m=\u001b[39m Prophet()\n\u001b[1;32m----> <a href='vscode-notebook-cell:/c%3A/Users/maxba/OneDrive%20-%20ESME/Desktop/S2/Project/BitcoinProject/COINMETRICS/NeuralNetwork.ipynb#ch0000002?line=1'>2</a>\u001b[0m m\u001b[39m.\u001b[39;49mfit(df)\n\u001b[0;32m      <a href='vscode-notebook-cell:/c%3A/Users/maxba/OneDrive%20-%20ESME/Desktop/S2/Project/BitcoinProject/COINMETRICS/NeuralNetwork.ipynb#ch0000002?line=3'>4</a>\u001b[0m future \u001b[39m=\u001b[39m m\u001b[39m.\u001b[39mmake_future_dataframe(periods\u001b[39m=\u001b[39m\u001b[39m365\u001b[39m)\n\u001b[0;32m      <a href='vscode-notebook-cell:/c%3A/Users/maxba/OneDrive%20-%20ESME/Desktop/S2/Project/BitcoinProject/COINMETRICS/NeuralNetwork.ipynb#ch0000002?line=4'>5</a>\u001b[0m future\u001b[39m.\u001b[39mtail()\n",
      "File \u001b[1;32mc:\\Users\\maxba\\anaconda3\\lib\\site-packages\\prophet\\forecaster.py:1107\u001b[0m, in \u001b[0;36mProphet.fit\u001b[1;34m(self, df, **kwargs)\u001b[0m\n\u001b[0;32m   <a href='file:///c%3A/Users/maxba/anaconda3/lib/site-packages/prophet/forecaster.py?line=1103'>1104</a>\u001b[0m     \u001b[39mraise\u001b[39;00m \u001b[39mException\u001b[39;00m(\u001b[39m'\u001b[39m\u001b[39mProphet object can only be fit once. \u001b[39m\u001b[39m'\u001b[39m\n\u001b[0;32m   <a href='file:///c%3A/Users/maxba/anaconda3/lib/site-packages/prophet/forecaster.py?line=1104'>1105</a>\u001b[0m                     \u001b[39m'\u001b[39m\u001b[39mInstantiate a new object.\u001b[39m\u001b[39m'\u001b[39m)\n\u001b[0;32m   <a href='file:///c%3A/Users/maxba/anaconda3/lib/site-packages/prophet/forecaster.py?line=1105'>1106</a>\u001b[0m \u001b[39mif\u001b[39;00m (\u001b[39m'\u001b[39m\u001b[39mds\u001b[39m\u001b[39m'\u001b[39m \u001b[39mnot\u001b[39;00m \u001b[39min\u001b[39;00m df) \u001b[39mor\u001b[39;00m (\u001b[39m'\u001b[39m\u001b[39my\u001b[39m\u001b[39m'\u001b[39m \u001b[39mnot\u001b[39;00m \u001b[39min\u001b[39;00m df):\n\u001b[1;32m-> <a href='file:///c%3A/Users/maxba/anaconda3/lib/site-packages/prophet/forecaster.py?line=1106'>1107</a>\u001b[0m     \u001b[39mraise\u001b[39;00m \u001b[39mValueError\u001b[39;00m(\n\u001b[0;32m   <a href='file:///c%3A/Users/maxba/anaconda3/lib/site-packages/prophet/forecaster.py?line=1107'>1108</a>\u001b[0m         \u001b[39m'\u001b[39m\u001b[39mDataframe must have columns \u001b[39m\u001b[39m\"\u001b[39m\u001b[39mds\u001b[39m\u001b[39m\"\u001b[39m\u001b[39m and \u001b[39m\u001b[39m\"\u001b[39m\u001b[39my\u001b[39m\u001b[39m\"\u001b[39m\u001b[39m with the dates and \u001b[39m\u001b[39m'\u001b[39m\n\u001b[0;32m   <a href='file:///c%3A/Users/maxba/anaconda3/lib/site-packages/prophet/forecaster.py?line=1108'>1109</a>\u001b[0m         \u001b[39m'\u001b[39m\u001b[39mvalues respectively.\u001b[39m\u001b[39m'\u001b[39m\n\u001b[0;32m   <a href='file:///c%3A/Users/maxba/anaconda3/lib/site-packages/prophet/forecaster.py?line=1109'>1110</a>\u001b[0m     )\n\u001b[0;32m   <a href='file:///c%3A/Users/maxba/anaconda3/lib/site-packages/prophet/forecaster.py?line=1110'>1111</a>\u001b[0m history \u001b[39m=\u001b[39m df[df[\u001b[39m'\u001b[39m\u001b[39my\u001b[39m\u001b[39m'\u001b[39m]\u001b[39m.\u001b[39mnotnull()]\u001b[39m.\u001b[39mcopy()\n\u001b[0;32m   <a href='file:///c%3A/Users/maxba/anaconda3/lib/site-packages/prophet/forecaster.py?line=1111'>1112</a>\u001b[0m \u001b[39mif\u001b[39;00m history\u001b[39m.\u001b[39mshape[\u001b[39m0\u001b[39m] \u001b[39m<\u001b[39m \u001b[39m2\u001b[39m:\n",
      "\u001b[1;31mValueError\u001b[0m: Dataframe must have columns \"ds\" and \"y\" with the dates and values respectively."
     ]
    }
   ],
   "source": [
    "m = Prophet()\n",
    "m.fit(df)\n",
    "\n",
    "future = m.make_future_dataframe(periods=365)\n",
    "future.tail()\n",
    "\n",
    "forecast = m.predict(future)\n",
    "forecast[['ds', 'yhat', 'yhat_lower', 'yhat_upper']].tail()\n",
    "fig1 = m.plot(forecast)\n",
    "fig2 = m.plot_components(forecast)\n",
    "plot_components_plotly(m, forecast)\n",
    "\n",
    "plot_plotly(m, forecast)"
   ]
  },
  {
   "cell_type": "code",
   "execution_count": null,
   "metadata": {},
   "outputs": [],
   "source": [
    "fig = m.plot(forecast)\n",
    "a = add_changepoints_to_plot(fig.gca(), m, forecast)"
   ]
  },
  {
   "cell_type": "code",
   "execution_count": null,
   "metadata": {},
   "outputs": [],
   "source": [
    "m = Prophet(changepoint_prior_scale=0.5)\n",
    "forecast = m.fit(df).predict(future)\n",
    "fig = m.plot(forecast)"
   ]
  },
  {
   "cell_type": "code",
   "execution_count": null,
   "metadata": {},
   "outputs": [],
   "source": [
    "m = Prophet(changepoint_prior_scale=0.001)\n",
    "forecast = m.fit(df).predict(future)\n",
    "fig = m.plot(forecast)"
   ]
  },
  {
   "cell_type": "code",
   "execution_count": null,
   "metadata": {},
   "outputs": [],
   "source": [
    "m = Prophet(changepoints=['2014-01-01'])\n",
    "forecast = m.fit(df).predict(future)\n",
    "fig = m.plot(forecast)"
   ]
  }
 ],
 "metadata": {
  "interpreter": {
   "hash": "9475284635d26067614a2f5c1768a08b1468dbbebaf0733e7f66e6cab11f2ea7"
  },
  "kernelspec": {
   "display_name": "Python 3.9.12 ('base')",
   "language": "python",
   "name": "python3"
  },
  "language_info": {
   "codemirror_mode": {
    "name": "ipython",
    "version": 3
   },
   "file_extension": ".py",
   "mimetype": "text/x-python",
   "name": "python",
   "nbconvert_exporter": "python",
   "pygments_lexer": "ipython3",
   "version": "3.9.12"
  },
  "orig_nbformat": 4
 },
 "nbformat": 4,
 "nbformat_minor": 2
}

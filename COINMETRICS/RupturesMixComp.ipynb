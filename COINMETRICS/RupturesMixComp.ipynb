{
 "cells": [
  {
   "cell_type": "markdown",
   "metadata": {},
   "source": [
    "**RUPTURES**"
   ]
  },
  {
   "cell_type": "code",
   "execution_count": null,
   "metadata": {},
   "outputs": [],
   "source": [
    "signal = get_df('btc.csv')\n",
    "signal = signal.sample(200)['PriceUSD'].values\n",
    "signal"
   ]
  },
  {
   "cell_type": "code",
   "execution_count": null,
   "metadata": {},
   "outputs": [],
   "source": [
    "import matplotlib.pyplot as plt\n",
    "import ruptures as rpt\n",
    "\n",
    "algo = rpt.Pelt(model=\"rbf\").fit(signal)\n",
    "result = algo.predict(pen=10)\n",
    "\n",
    "# display\n",
    "rpt.display(signal, bkps)\n",
    "plt.show()"
   ]
  },
  {
   "cell_type": "code",
   "execution_count": null,
   "metadata": {},
   "outputs": [],
   "source": [
    "algo = rpt.Dynp(model=\"l2\").fit(signal)\n",
    "result = algo.predict(n_bkps=10)\n",
    "rpt.display(signal, result)\n",
    "result"
   ]
  },
  {
   "cell_type": "code",
   "execution_count": null,
   "metadata": {},
   "outputs": [],
   "source": [
    "import matplotlib.pyplot as plt\n",
    "import ruptures as rpt\n",
    "\n",
    "# generate signal\n",
    "n_samples, dim, sigma = 1000, 3, 4\n",
    "n_bkps = 4  # number of breakpoints\n",
    "signal, bkps = rpt.pw_constant(n_samples, dim, n_bkps, noise_std=sigma)\n",
    "\n",
    "# detection\n",
    "algo = rpt.Pelt(model=\"rbf\").fit(signal)\n",
    "result = algo.predict(pen=10)\n",
    "\n",
    "# display\n",
    "rpt.display(signal, bkps, result)\n",
    "plt.show()"
   ]
  },
  {
   "cell_type": "code",
   "execution_count": null,
   "metadata": {},
   "outputs": [],
   "source": [
    "bkps"
   ]
  },
  {
   "cell_type": "markdown",
   "metadata": {},
   "source": [
    "MixComp"
   ]
  },
  {
   "cell_type": "code",
   "execution_count": 1,
   "metadata": {},
   "outputs": [
    {
     "ename": "ModuleNotFoundError",
     "evalue": "No module named 'pyMixtComp'",
     "output_type": "error",
     "traceback": [
      "\u001b[1;31m---------------------------------------------------------------------------\u001b[0m",
      "\u001b[1;31mModuleNotFoundError\u001b[0m                       Traceback (most recent call last)",
      "\u001b[1;32mc:\\Users\\maxba\\OneDrive - ESME\\Desktop\\S2\\Project\\BitcoinProject\\COINMETRICS\\RupturesMixComp.ipynb Cell 8'\u001b[0m in \u001b[0;36m<cell line: 2>\u001b[1;34m()\u001b[0m\n\u001b[0;32m      <a href='vscode-notebook-cell:/c%3A/Users/maxba/OneDrive%20-%20ESME/Desktop/S2/Project/BitcoinProject/COINMETRICS/RupturesMixComp.ipynb#ch0000007?line=0'>1</a>\u001b[0m \u001b[39mimport\u001b[39;00m \u001b[39mmatplotlib\u001b[39;00m\u001b[39m.\u001b[39;00m\u001b[39mpyplot\u001b[39;00m \u001b[39mas\u001b[39;00m \u001b[39mplt\u001b[39;00m\n\u001b[1;32m----> <a href='vscode-notebook-cell:/c%3A/Users/maxba/OneDrive%20-%20ESME/Desktop/S2/Project/BitcoinProject/COINMETRICS/RupturesMixComp.ipynb#ch0000007?line=1'>2</a>\u001b[0m \u001b[39mfrom\u001b[39;00m \u001b[39mpyMixtComp\u001b[39;00m \u001b[39mimport\u001b[39;00m MixtComp\n\u001b[0;32m      <a href='vscode-notebook-cell:/c%3A/Users/maxba/OneDrive%20-%20ESME/Desktop/S2/Project/BitcoinProject/COINMETRICS/RupturesMixComp.ipynb#ch0000007?line=2'>3</a>\u001b[0m \u001b[39mfrom\u001b[39;00m \u001b[39mpyMixtComp\u001b[39;00m\u001b[39m.\u001b[39;00m\u001b[39mdata\u001b[39;00m \u001b[39mimport\u001b[39;00m load_prostate\n\u001b[0;32m      <a href='vscode-notebook-cell:/c%3A/Users/maxba/OneDrive%20-%20ESME/Desktop/S2/Project/BitcoinProject/COINMETRICS/RupturesMixComp.ipynb#ch0000007?line=3'>4</a>\u001b[0m data, model \u001b[39m=\u001b[39m load_prostate()\n",
      "\u001b[1;31mModuleNotFoundError\u001b[0m: No module named 'pyMixtComp'"
     ]
    }
   ],
   "source": [
    "import matplotlib.pyplot as plt\n",
    "from pyMixtComp import MixtComp\n",
    "from pyMixtComp.data import load_prostate\n",
    "data, model = load_prostate()\n",
    "data.head()"
   ]
  }
 ],
 "metadata": {
  "interpreter": {
   "hash": "9475284635d26067614a2f5c1768a08b1468dbbebaf0733e7f66e6cab11f2ea7"
  },
  "kernelspec": {
   "display_name": "Python 3.9.12 ('base')",
   "language": "python",
   "name": "python3"
  },
  "language_info": {
   "codemirror_mode": {
    "name": "ipython",
    "version": 3
   },
   "file_extension": ".py",
   "mimetype": "text/x-python",
   "name": "python",
   "nbconvert_exporter": "python",
   "pygments_lexer": "ipython3",
   "version": "3.9.12"
  },
  "orig_nbformat": 4
 },
 "nbformat": 4,
 "nbformat_minor": 2
}

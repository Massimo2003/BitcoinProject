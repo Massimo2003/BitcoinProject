{
 "cells": [
  {
   "cell_type": "markdown",
   "metadata": {},
   "source": [
    "Data within a day every 5 minutes found thanks to alphavantage API. (API Key: NLKCY88BR7L7RZ8V)"
   ]
  },
  {
   "cell_type": "code",
   "execution_count": 2,
   "metadata": {},
   "outputs": [],
   "source": [
    "import requests\n",
    "import csv\n",
    "import pandas as pd\n",
    "import os\n",
    "\n",
    "from datetime import datetime\n",
    "url = 'https://www.alphavantage.co/query?function=CRYPTO_INTRADAY&symbol=BTC&market=USD&interval=5min&apikey=NLKCY88BR7L7RZ8V&datatype=csv'\n",
    "with requests.Session() as s:\n",
    "    download = s.get(url)\n",
    "\n",
    "    decoded_content = download.content.decode('utf-8')\n",
    "\n",
    "    cr = csv.reader(decoded_content.splitlines(), delimiter=',')\n",
    "    my_list = list(cr)\n",
    "    \n",
    "df = pd.DataFrame(my_list)\n",
    "new_header = df.iloc[0] #grab the first row for the header\n",
    "df = df[1:] #take the data less the header row\n",
    "df.columns = new_header #set the header row as the df header\n",
    "date=datetime.today().strftime('%Y-%m-%d')\n",
    "path=\"C:/Users/noorm/Documents/BitcoinProject-main/BitcoinProject-main/TALIB/BTCIntraDayData_\"+date+\".csv\"\n",
    "if(os.path.exists(path)==True):  \n",
    "    df.to_csv('BTCIntraDayData'+date+'.csv',index=False,mode='a')\n",
    "    dfnodbl=pd.read_csv('BTCIntraDayData'+date+'.csv')\n",
    "    dfnodbl.drop_duplicates(subset=['timestamp'], inplace=True)\n",
    "    dfnodbl.to_csv('BTCIntraDayDatatest_'+date+\".csv\",index=False,header=False)\n",
    "df.to_csv('BTCIntraDayData_'+date+'.csv',index=False)\n"
   ]
  },
  {
   "cell_type": "code",
   "execution_count": 30,
   "metadata": {},
   "outputs": [],
   "source": [
    "import requests\n",
    "import csv\n",
    "import pandas as pd\n",
    "from datetime import datetime\n",
    "url = 'https://www.alphavantage.co/query?function=CRYPTO_INTRADAY&symbol=BTC&market=USD&interval=1min&apikey=NLKCY88BR7L7RZ8V&datatype=csv'\n",
    "with requests.Session() as s:\n",
    "    download = s.get(url)\n",
    "\n",
    "    decoded_content = download.content.decode('utf-8')\n",
    "\n",
    "    cr = csv.reader(decoded_content.splitlines(), delimiter=',')\n",
    "    my_list = list(cr)   \n",
    "df = pd.DataFrame(my_list)\n",
    "new_header = df.iloc[0] #grab the first row for the header\n",
    "df = df[1:] #take the data less the header row\n",
    "df.columns = new_header #set the header row as the df header\n",
    "date=datetime.today().strftime('%Y-%m-%d')\n",
    "df.to_csv('BTCIntraDayData_'+date+'.csv',index=False)\n",
    "\n"
   ]
  }
 ],
 "metadata": {
  "interpreter": {
   "hash": "9475284635d26067614a2f5c1768a08b1468dbbebaf0733e7f66e6cab11f2ea7"
  },
  "kernelspec": {
   "display_name": "Python 3 (ipykernel)",
   "language": "python",
   "name": "python3"
  },
  "language_info": {
   "codemirror_mode": {
    "name": "ipython",
    "version": 3
   },
   "file_extension": ".py",
   "mimetype": "text/x-python",
   "name": "python",
   "nbconvert_exporter": "python",
   "pygments_lexer": "ipython3",
   "version": "3.9.12"
  }
 },
 "nbformat": 4,
 "nbformat_minor": 4
}

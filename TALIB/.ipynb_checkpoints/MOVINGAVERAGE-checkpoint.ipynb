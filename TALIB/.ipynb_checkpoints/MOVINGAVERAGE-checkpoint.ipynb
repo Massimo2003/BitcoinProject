{
 "cells": [
  {
   "cell_type": "markdown",
   "id": "de7cfc85-c881-40da-8143-a24b18dd6818",
   "metadata": {},
   "source": [
    "UTILISATION DE TALIB POUR MOVING AVERAGE\n",
    "\n"
   ]
  },
  {
   "cell_type": "code",
   "execution_count": 13,
   "id": "94bb765e-814f-4be8-ac02-107fd60d52e8",
   "metadata": {},
   "outputs": [],
   "source": [
    "import talib\n",
    "import pandas as pd\n",
    "from talib import SMA\n"
   ]
  },
  {
   "cell_type": "code",
   "execution_count": 2,
   "id": "101e8573-3be3-4697-87b5-90e33b2a9b14",
   "metadata": {},
   "outputs": [],
   "source": [
    "csv_file = \"crypto_intraday_5min_ETH_USD (version 1).csv\""
   ]
  },
  {
   "cell_type": "code",
   "execution_count": 5,
   "id": "5df42c6a-571b-4ceb-82ae-58b259628d62",
   "metadata": {},
   "outputs": [],
   "source": [
    "df = pd.read_csv(csv_file)"
   ]
  },
  {
   "cell_type": "code",
   "execution_count": 9,
   "id": "2bf5321a-832c-40b3-9329-f0cca9bb5a9b",
   "metadata": {},
   "outputs": [
    {
     "data": {
      "text/html": [
       "<div>\n",
       "<style scoped>\n",
       "    .dataframe tbody tr th:only-of-type {\n",
       "        vertical-align: middle;\n",
       "    }\n",
       "\n",
       "    .dataframe tbody tr th {\n",
       "        vertical-align: top;\n",
       "    }\n",
       "\n",
       "    .dataframe thead th {\n",
       "        text-align: right;\n",
       "    }\n",
       "</style>\n",
       "<table border=\"1\" class=\"dataframe\">\n",
       "  <thead>\n",
       "    <tr style=\"text-align: right;\">\n",
       "      <th></th>\n",
       "      <th>timestamp</th>\n",
       "      <th>open</th>\n",
       "      <th>high</th>\n",
       "      <th>low</th>\n",
       "      <th>close</th>\n",
       "      <th>volume</th>\n",
       "    </tr>\n",
       "  </thead>\n",
       "  <tbody>\n",
       "    <tr>\n",
       "      <th>0</th>\n",
       "      <td>5/6/2022 15:00</td>\n",
       "      <td>2697.18</td>\n",
       "      <td>2703.97</td>\n",
       "      <td>2690.00</td>\n",
       "      <td>2691.67</td>\n",
       "      <td>3460</td>\n",
       "    </tr>\n",
       "    <tr>\n",
       "      <th>1</th>\n",
       "      <td>5/6/2022 14:55</td>\n",
       "      <td>2695.14</td>\n",
       "      <td>2705.40</td>\n",
       "      <td>2690.94</td>\n",
       "      <td>2697.18</td>\n",
       "      <td>5386</td>\n",
       "    </tr>\n",
       "    <tr>\n",
       "      <th>2</th>\n",
       "      <td>5/6/2022 14:50</td>\n",
       "      <td>2691.44</td>\n",
       "      <td>2695.89</td>\n",
       "      <td>2684.01</td>\n",
       "      <td>2695.14</td>\n",
       "      <td>4288</td>\n",
       "    </tr>\n",
       "    <tr>\n",
       "      <th>3</th>\n",
       "      <td>5/6/2022 14:45</td>\n",
       "      <td>2669.42</td>\n",
       "      <td>2692.30</td>\n",
       "      <td>2667.57</td>\n",
       "      <td>2691.43</td>\n",
       "      <td>11764</td>\n",
       "    </tr>\n",
       "    <tr>\n",
       "      <th>4</th>\n",
       "      <td>5/6/2022 14:40</td>\n",
       "      <td>2664.18</td>\n",
       "      <td>2675.00</td>\n",
       "      <td>2662.00</td>\n",
       "      <td>2669.42</td>\n",
       "      <td>4409</td>\n",
       "    </tr>\n",
       "  </tbody>\n",
       "</table>\n",
       "</div>"
      ],
      "text/plain": [
       "        timestamp     open     high      low    close  volume\n",
       "0  5/6/2022 15:00  2697.18  2703.97  2690.00  2691.67    3460\n",
       "1  5/6/2022 14:55  2695.14  2705.40  2690.94  2697.18    5386\n",
       "2  5/6/2022 14:50  2691.44  2695.89  2684.01  2695.14    4288\n",
       "3  5/6/2022 14:45  2669.42  2692.30  2667.57  2691.43   11764\n",
       "4  5/6/2022 14:40  2664.18  2675.00  2662.00  2669.42    4409"
      ]
     },
     "execution_count": 9,
     "metadata": {},
     "output_type": "execute_result"
    }
   ],
   "source": [
    "df.head()"
   ]
  },
  {
   "cell_type": "code",
   "execution_count": 16,
   "id": "9d7d4037-e329-46c5-9f7d-fc057cb0252e",
   "metadata": {},
   "outputs": [
    {
     "name": "stdout",
     "output_type": "stream",
     "text": [
      "0              NaN\n",
      "1              NaN\n",
      "2              NaN\n",
      "3              NaN\n",
      "4              NaN\n",
      "          ...     \n",
      "128    2746.517333\n",
      "129    2746.173333\n",
      "130    2745.798333\n",
      "131    2745.515000\n",
      "132    2745.402667\n",
      "Name: SMA, Length: 133, dtype: float64\n"
     ]
    }
   ],
   "source": [
    "df['SMA'] = SMA(df['close']) \n",
    "print(df['SMA'])"
   ]
  }
 ],
 "metadata": {
  "kernelspec": {
   "display_name": "Python 3 (ipykernel)",
   "language": "python",
   "name": "python3"
  },
  "language_info": {
   "codemirror_mode": {
    "name": "ipython",
    "version": 3
   },
   "file_extension": ".py",
   "mimetype": "text/x-python",
   "name": "python",
   "nbconvert_exporter": "python",
   "pygments_lexer": "ipython3",
   "version": "3.9.7"
  }
 },
 "nbformat": 4,
 "nbformat_minor": 5
}

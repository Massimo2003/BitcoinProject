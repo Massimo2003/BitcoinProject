{
 "cells": [
  {
   "cell_type": "markdown",
   "id": "de7cfc85-c881-40da-8143-a24b18dd6818",
   "metadata": {},
   "source": [
    "UTILISATION DE TALIB POUR MOVING AVERAGE\n",
    "\n"
   ]
  },
  {
   "cell_type": "code",
   "execution_count": 6,
   "id": "94bb765e-814f-4be8-ac02-107fd60d52e8",
   "metadata": {},
   "outputs": [
    {
     "name": "stdout",
     "output_type": "stream",
     "text": [
      "BTCIntraDayData_2022-05-06.csv\n",
      "BTCIntraDayData_2022-05-09.csv\n",
      "BTCIntraDayData_2022-05-10.csv\n"
     ]
    }
   ],
   "source": [
    "import talib\n",
    "import pandas as pd\n",
    "from talib import SMA\n",
    "from talib.abstract import *\n",
    "import matplotlib.pyplot as plt\n",
    "csv_list=[]\n",
    "mypath=\"C:/Users/noorm/Documents/BitcoinProject-main/BitcoinProject-main/TALIB\"\n",
    "import os\n",
    "for file in os.listdir(mypath):\n",
    "    if file.endswith(\".csv\"):\n",
    "        csv_list.append(file)\n",
    "        print(file)"
   ]
  },
  {
   "cell_type": "markdown",
   "id": "b8b2ff88-0b91-4d54-939b-6fce3366ec41",
   "metadata": {},
   "source": [
    "RECUP DES CSV INTO DF "
   ]
  },
  {
   "cell_type": "code",
   "execution_count": 2,
   "id": "dcbe970d-0dbb-44a4-ab27-f9d5661a415f",
   "metadata": {},
   "outputs": [],
   "source": [
    "def get_df(csv):\n",
    "    df=pd.read_csv(csv)\n",
    "    print(df)\n",
    "    return df"
   ]
  },
  {
   "cell_type": "code",
   "execution_count": 7,
   "id": "9d7d4037-e329-46c5-9f7d-fc057cb0252e",
   "metadata": {},
   "outputs": [
    {
     "name": "stdout",
     "output_type": "stream",
     "text": [
      "    Unnamed: 0            timestamp      open      high       low     close  \\\n",
      "0            1  2022-05-10 12:30:00  31764.82  31790.14  31705.55  31789.36   \n",
      "1            2  2022-05-10 12:25:00  31683.44  31804.84  31683.19  31764.82   \n",
      "2            3  2022-05-10 12:20:00  31761.22  31767.62  31660.01  31683.44   \n",
      "3            4  2022-05-10 12:15:00  31597.80  31784.80  31550.00  31761.21   \n",
      "4            5  2022-05-10 12:10:00  31564.95  31618.92  31535.28  31597.80   \n",
      "..         ...                  ...       ...       ...       ...       ...   \n",
      "95          96  2022-05-10 04:35:00  31052.22  31150.00  31000.62  31138.89   \n",
      "96          97  2022-05-10 04:30:00  30965.61  31096.84  30936.98  31052.21   \n",
      "97          98  2022-05-10 04:25:00  30926.96  31040.07  30907.22  30973.19   \n",
      "98          99  2022-05-10 04:20:00  30949.35  31068.70  30911.97  30926.96   \n",
      "99         100  2022-05-10 04:15:00  30789.89  30986.90  30786.15  30949.35   \n",
      "\n",
      "    volume  \n",
      "0      262  \n",
      "1      429  \n",
      "2      429  \n",
      "3      607  \n",
      "4      474  \n",
      "..     ...  \n",
      "95     595  \n",
      "96     503  \n",
      "97     354  \n",
      "98     552  \n",
      "99     617  \n",
      "\n",
      "[100 rows x 7 columns]\n",
      "0            NaN\n",
      "1            NaN\n",
      "2            NaN\n",
      "3            NaN\n",
      "4            NaN\n",
      "         ...    \n",
      "95    31814.2916\n",
      "96    31799.2824\n",
      "97    31782.1214\n",
      "98    31764.2466\n",
      "99    31745.1536\n",
      "Name: SMA, Length: 100, dtype: float64\n",
      "0            NaN\n",
      "1            NaN\n",
      "2            NaN\n",
      "3            NaN\n",
      "4            NaN\n",
      "         ...    \n",
      "95    31814.2916\n",
      "96    31799.2824\n",
      "97    31782.1214\n",
      "98    31764.2466\n",
      "99    31745.1536\n",
      "Name: SMA, Length: 100, dtype: float64\n"
     ]
    },
    {
     "data": {
      "image/png": "[encoded data removed]",
      "text/plain": [
       "<Figure size 864x288 with 1 Axes>"
      ]
     },
     "metadata": {
      "needs_background": "light"
     },
     "output_type": "display_data"
    }
   ],
   "source": [
    "df=get_df('BTCIntraDayData_2022-05-10.csv')\n",
    "df['SMA'] = SMA(df['close'],timeperiod=50) \n",
    "print(df['SMA'])\n",
    "df['SMA'] = SMA(df['close'],timeperiod=50) \n",
    "print(df['SMA'])\n",
    "#fig,(ax1,ax2)= plt.subplots(2,sharex=True)\n",
    "#ax1.plot(df_complet.loc[\"2010-07-01\":\"2010-07-22\", \"PriceUSD\"] ,'tab:orange')  \n",
    "#ax2.plot(df_complet.loc[\"SMA\"])axes = df_complet[[\"close\", \"SMA\"]].plot(subplots = True, figsize = (10, 10))\n",
    "fig, ax = plt.subplots(figsize = (12, 4))\n",
    "ax.plot(df[\"close\"], linestyle='-', \n",
    "        linewidth=0.2, label='Prix')\n",
    "ax.plot(df[\"SMA\"],marker='.', linestyle='--', linewidth=0.5, label='SMA')\n",
    "ax.legend();\n"
   ]
  },
  {
   "cell_type": "code",
   "execution_count": null,
   "id": "458ae783-1cfb-4005-a9a1-ff3586c9f12f",
   "metadata": {},
   "outputs": [],
   "source": [
    "df['T3'] = T3(df['close'], timeperiod=5) # create column in df automatically\n",
    "print(df['T3'])"
   ]
  },
  {
   "cell_type": "code",
   "execution_count": null,
   "id": "c058a28e-6159-4d36-9d87-70a7767286dd",
   "metadata": {},
   "outputs": [],
   "source": [
    "df['WMA'] = WMA(df['close'], timeperiod=5) # create column in df automatically\n",
    "print(df['WMA'])"
   ]
  }
 ],
 "metadata": {
  "kernelspec": {
   "display_name": "Python 3 (ipykernel)",
   "language": "python",
   "name": "python3"
  },
  "language_info": {
   "codemirror_mode": {
    "name": "ipython",
    "version": 3
   },
   "file_extension": ".py",
   "mimetype": "text/x-python",
   "name": "python",
   "nbconvert_exporter": "python",
   "pygments_lexer": "ipython3",
   "version": "3.9.7"
  }
 },
 "nbformat": 4,
 "nbformat_minor": 5
}

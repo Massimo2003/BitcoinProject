{
 "cells": [
  {
   "cell_type": "markdown",
   "id": "de7cfc85-c881-40da-8143-a24b18dd6818",
   "metadata": {},
   "source": [
    "UTILISATION DE TALIB POUR MOVING AVERAGE\n",
    "\n"
   ]
  },
  {
   "cell_type": "code",
   "execution_count": 43,
   "id": "94bb765e-814f-4be8-ac02-107fd60d52e8",
   "metadata": {},
   "outputs": [],
   "source": [
    "import talib\n",
    "import pandas as pd\n",
    "from talib import SMA\n",
    "from talib.abstract import *\n",
    "import matplotlib.pyplot as plt\n",
    "csv_file = \"BTCIntraDayData.csv\"\n",
    "csv_complet=\"btc.csv\"\n",
    "df_complet=pd.read_csv(csv_file)\n",
    "df = pd.read_csv(csv_file)"
   ]
  },
  {
   "cell_type": "code",
   "execution_count": 2,
   "id": "2bf5321a-832c-40b3-9329-f0cca9bb5a9b",
   "metadata": {},
   "outputs": [
    {
     "data": {
      "text/html": [
       "<div>\n",
       "<style scoped>\n",
       "    .dataframe tbody tr th:only-of-type {\n",
       "        vertical-align: middle;\n",
       "    }\n",
       "\n",
       "    .dataframe tbody tr th {\n",
       "        vertical-align: top;\n",
       "    }\n",
       "\n",
       "    .dataframe thead th {\n",
       "        text-align: right;\n",
       "    }\n",
       "</style>\n",
       "<table border=\"1\" class=\"dataframe\">\n",
       "  <thead>\n",
       "    <tr style=\"text-align: right;\">\n",
       "      <th></th>\n",
       "      <th>Unnamed: 0</th>\n",
       "      <th>timestamp</th>\n",
       "      <th>open</th>\n",
       "      <th>high</th>\n",
       "      <th>low</th>\n",
       "      <th>close</th>\n",
       "      <th>volume</th>\n",
       "    </tr>\n",
       "  </thead>\n",
       "  <tbody>\n",
       "    <tr>\n",
       "      <th>0</th>\n",
       "      <td>1</td>\n",
       "      <td>2022-05-09 10:20:00</td>\n",
       "      <td>33322.78</td>\n",
       "      <td>33388.52</td>\n",
       "      <td>33322.78</td>\n",
       "      <td>33381.68</td>\n",
       "      <td>59</td>\n",
       "    </tr>\n",
       "    <tr>\n",
       "      <th>1</th>\n",
       "      <td>2</td>\n",
       "      <td>2022-05-09 10:15:00</td>\n",
       "      <td>33354.66</td>\n",
       "      <td>33394.89</td>\n",
       "      <td>33306.37</td>\n",
       "      <td>33322.78</td>\n",
       "      <td>237</td>\n",
       "    </tr>\n",
       "    <tr>\n",
       "      <th>2</th>\n",
       "      <td>3</td>\n",
       "      <td>2022-05-09 10:10:00</td>\n",
       "      <td>33396.05</td>\n",
       "      <td>33434.17</td>\n",
       "      <td>33350.00</td>\n",
       "      <td>33354.66</td>\n",
       "      <td>254</td>\n",
       "    </tr>\n",
       "    <tr>\n",
       "      <th>3</th>\n",
       "      <td>4</td>\n",
       "      <td>2022-05-09 10:05:00</td>\n",
       "      <td>33530.87</td>\n",
       "      <td>33531.25</td>\n",
       "      <td>33380.69</td>\n",
       "      <td>33396.06</td>\n",
       "      <td>205</td>\n",
       "    </tr>\n",
       "    <tr>\n",
       "      <th>4</th>\n",
       "      <td>5</td>\n",
       "      <td>2022-05-09 10:00:00</td>\n",
       "      <td>33501.68</td>\n",
       "      <td>33547.00</td>\n",
       "      <td>33450.32</td>\n",
       "      <td>33530.88</td>\n",
       "      <td>154</td>\n",
       "    </tr>\n",
       "  </tbody>\n",
       "</table>\n",
       "</div>"
      ],
      "text/plain": [
       "   Unnamed: 0            timestamp      open      high       low     close  \\\n",
       "0           1  2022-05-09 10:20:00  33322.78  33388.52  33322.78  33381.68   \n",
       "1           2  2022-05-09 10:15:00  33354.66  33394.89  33306.37  33322.78   \n",
       "2           3  2022-05-09 10:10:00  33396.05  33434.17  33350.00  33354.66   \n",
       "3           4  2022-05-09 10:05:00  33530.87  33531.25  33380.69  33396.06   \n",
       "4           5  2022-05-09 10:00:00  33501.68  33547.00  33450.32  33530.88   \n",
       "\n",
       "   volume  \n",
       "0      59  \n",
       "1     237  \n",
       "2     254  \n",
       "3     205  \n",
       "4     154  "
      ]
     },
     "execution_count": 2,
     "metadata": {},
     "output_type": "execute_result"
    }
   ],
   "source": [
    "df.head()"
   ]
  },
  {
   "cell_type": "code",
   "execution_count": 46,
   "id": "9d7d4037-e329-46c5-9f7d-fc057cb0252e",
   "metadata": {},
   "outputs": [
    {
     "name": "stdout",
     "output_type": "stream",
     "text": [
      "0            NaN\n",
      "1            NaN\n",
      "2            NaN\n",
      "3            NaN\n",
      "4            NaN\n",
      "         ...    \n",
      "95    33602.8332\n",
      "96    33609.3042\n",
      "97    33618.0394\n",
      "98    33627.8052\n",
      "99    33636.7118\n",
      "Name: SMA, Length: 100, dtype: float64\n",
      "0            NaN\n",
      "1            NaN\n",
      "2            NaN\n",
      "3            NaN\n",
      "4            NaN\n",
      "         ...    \n",
      "95    33602.8332\n",
      "96    33609.3042\n",
      "97    33618.0394\n",
      "98    33627.8052\n",
      "99    33636.7118\n",
      "Name: SMA, Length: 100, dtype: float64\n"
     ]
    },
    {
     "data": {
      "image/png": "[encoded data removed]",
      "text/plain": [
       "<Figure size 864x288 with 1 Axes>"
      ]
     },
     "metadata": {
      "needs_background": "light"
     },
     "output_type": "display_data"
    }
   ],
   "source": [
    "df['SMA'] = SMA(df['close'],timeperiod=50) \n",
    "print(df['SMA'])\n",
    "df_complet['SMA'] = SMA(df_complet['close'],timeperiod=50) \n",
    "print(df_complet['SMA'])\n",
    "#fig,(ax1,ax2)= plt.subplots(2,sharex=True)\n",
    "#ax1.plot(df_complet.loc[\"2010-07-01\":\"2010-07-22\", \"PriceUSD\"] ,'tab:orange')  \n",
    "#ax2.plot(df_complet.loc[\"SMA\"])axes = df_complet[[\"close\", \"SMA\"]].plot(subplots = True, figsize = (10, 10))\n",
    "fig, ax = plt.subplots(figsize = (12, 4))\n",
    "ax.plot(df_complet[\"close\"], linestyle='-', \n",
    "        linewidth=0.2, label='Prix')\n",
    "ax.plot(df_complet[\"SMA\"],marker='.', linestyle='--', linewidth=0.5, label='SMA')\n",
    "ax.legend();\n"
   ]
  },
  {
   "cell_type": "code",
   "execution_count": 4,
   "id": "458ae783-1cfb-4005-a9a1-ff3586c9f12f",
   "metadata": {},
   "outputs": [
    {
     "name": "stdout",
     "output_type": "stream",
     "text": [
      "0              NaN\n",
      "1              NaN\n",
      "2              NaN\n",
      "3              NaN\n",
      "4              NaN\n",
      "          ...     \n",
      "95    33487.264899\n",
      "96    33539.542566\n",
      "97    33613.585660\n",
      "98    33698.528486\n",
      "99    33776.422602\n",
      "Name: T3, Length: 100, dtype: float64\n"
     ]
    }
   ],
   "source": [
    "df['T3'] = T3(df['close'], timeperiod=5) # create column in df automatically\n",
    "print(df['T3'])"
   ]
  },
  {
   "cell_type": "code",
   "execution_count": 5,
   "id": "c058a28e-6159-4d36-9d87-70a7767286dd",
   "metadata": {},
   "outputs": [
    {
     "name": "stdout",
     "output_type": "stream",
     "text": [
      "0              NaN\n",
      "1              NaN\n",
      "2              NaN\n",
      "3              NaN\n",
      "4     33421.990667\n",
      "          ...     \n",
      "95    33542.642000\n",
      "96    33644.192000\n",
      "97    33731.499333\n",
      "98    33815.778667\n",
      "99    33862.441333\n",
      "Name: WMA, Length: 100, dtype: float64\n"
     ]
    }
   ],
   "source": [
    "df['WMA'] = WMA(df['close'], timeperiod=5) # create column in df automatically\n",
    "print(df['WMA'])"
   ]
  }
 ],
 "metadata": {
  "kernelspec": {
   "display_name": "Python 3 (ipykernel)",
   "language": "python",
   "name": "python3"
  },
  "language_info": {
   "codemirror_mode": {
    "name": "ipython",
    "version": 3
   },
   "file_extension": ".py",
   "mimetype": "text/x-python",
   "name": "python",
   "nbconvert_exporter": "python",
   "pygments_lexer": "ipython3",
   "version": "3.9.7"
  }
 },
 "nbformat": 4,
 "nbformat_minor": 5
}

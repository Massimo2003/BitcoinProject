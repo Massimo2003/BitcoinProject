{
 "cells": [
  {
   "cell_type": "markdown",
   "metadata": {},
   "source": [
    "Data within a day every 5 minutes found thanks to alphavantage API. (API Key: NLKCY88BR7L7RZ8V)"
   ]
  },
  {
   "cell_type": "code",
   "execution_count": 1,
   "metadata": {},
   "outputs": [
    {
     "name": "stdout",
     "output_type": "stream",
     "text": [
      "                     0            1            2            3            4  \\\n",
      "0            timestamp         open         high          low        close   \n",
      "1  2022-05-10 12:30:00  31764.82000  31790.14000  31705.55000  31789.36000   \n",
      "2  2022-05-10 12:25:00  31683.44000  31804.84000  31683.19000  31764.82000   \n",
      "3  2022-05-10 12:20:00  31761.22000  31767.62000  31660.01000  31683.44000   \n",
      "4  2022-05-10 12:15:00  31597.80000  31784.80000  31550.00000  31761.21000   \n",
      "\n",
      "        5  \n",
      "0  volume  \n",
      "1     262  \n",
      "2     429  \n",
      "3     429  \n",
      "4     607  \n",
      "0              timestamp         open         high          low        close  \\\n",
      "1    2022-05-10 12:30:00  31764.82000  31790.14000  31705.55000  31789.36000   \n",
      "2    2022-05-10 12:25:00  31683.44000  31804.84000  31683.19000  31764.82000   \n",
      "3    2022-05-10 12:20:00  31761.22000  31767.62000  31660.01000  31683.44000   \n",
      "4    2022-05-10 12:15:00  31597.80000  31784.80000  31550.00000  31761.21000   \n",
      "5    2022-05-10 12:10:00  31564.95000  31618.92000  31535.28000  31597.80000   \n",
      "..                   ...          ...          ...          ...          ...   \n",
      "96   2022-05-10 04:35:00  31052.22000  31150.00000  31000.62000  31138.89000   \n",
      "97   2022-05-10 04:30:00  30965.61000  31096.84000  30936.98000  31052.21000   \n",
      "98   2022-05-10 04:25:00  30926.96000  31040.07000  30907.22000  30973.19000   \n",
      "99   2022-05-10 04:20:00  30949.35000  31068.70000  30911.97000  30926.96000   \n",
      "100  2022-05-10 04:15:00  30789.89000  30986.90000  30786.15000  30949.35000   \n",
      "\n",
      "0   volume  \n",
      "1      262  \n",
      "2      429  \n",
      "3      429  \n",
      "4      607  \n",
      "5      474  \n",
      "..     ...  \n",
      "96     595  \n",
      "97     503  \n",
      "98     354  \n",
      "99     552  \n",
      "100    617  \n",
      "\n",
      "[100 rows x 6 columns]\n"
     ]
    }
   ],
   "source": [
    "import requests\n",
    "import csv\n",
    "import pandas as pd\n",
    "from datetime import datetime\n",
    "url = 'https://www.alphavantage.co/query?function=CRYPTO_INTRADAY&symbol=BTC&market=USD&interval=5min&apikey=NLKCY88BR7L7RZ8V&datatype=csv'\n",
    "\n",
    "\n",
    "with requests.Session() as s:\n",
    "    download = s.get(url)\n",
    "\n",
    "    decoded_content = download.content.decode('utf-8')\n",
    "\n",
    "    cr = csv.reader(decoded_content.splitlines(), delimiter=',')\n",
    "    my_list = list(cr)\n",
    "    \n",
    "\n",
    "df = pd.DataFrame(my_list)\n",
    "print(df.head())\n",
    "new_header = df.iloc[0] #grab the first row for the header\n",
    "df = df[1:] #take the data less the header row\n",
    "df.columns = new_header #set the header row as the df header\n",
    "print(df)\n",
    "date=datetime.today().strftime('%Y-%m-%d')\n",
    "df.to_csv('BTCIntraDayData_'+date+'.csv')\n",
    "\n",
    "\n",
    "\n",
    " "
   ]
  }
 ],
 "metadata": {
  "interpreter": {
   "hash": "9475284635d26067614a2f5c1768a08b1468dbbebaf0733e7f66e6cab11f2ea7"
  },
  "kernelspec": {
   "display_name": "Python 3 (ipykernel)",
   "language": "python",
   "name": "python3"
  },
  "language_info": {
   "codemirror_mode": {
    "name": "ipython",
    "version": 3
   },
   "file_extension": ".py",
   "mimetype": "text/x-python",
   "name": "python",
   "nbconvert_exporter": "python",
   "pygments_lexer": "ipython3",
   "version": "3.9.7"
  }
 },
 "nbformat": 4,
 "nbformat_minor": 4
}
